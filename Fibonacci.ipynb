{
  "nbformat": 4,
  "nbformat_minor": 0,
  "metadata": {
    "colab": {
      "provenance": [],
      "authorship_tag": "ABX9TyN2rUc+iw6/7AswIVnP5Ry9",
      "include_colab_link": true
    },
    "kernelspec": {
      "name": "python3",
      "display_name": "Python 3"
    },
    "language_info": {
      "name": "python"
    }
  },
  "cells": [
    {
      "cell_type": "markdown",
      "metadata": {
        "id": "view-in-github",
        "colab_type": "text"
      },
      "source": [
        "<a href=\"https://colab.research.google.com/github/yaava6/Projects/blob/main/Fibonacci.ipynb\" target=\"_parent\"><img src=\"https://colab.research.google.com/assets/colab-badge.svg\" alt=\"Open In Colab\"/></a>"
      ]
    },
    {
      "cell_type": "markdown",
      "source": [
        "Обычная реализация Фибоначчи"
      ],
      "metadata": {
        "id": "UC9qq-hgHkqa"
      }
    },
    {
      "cell_type": "code",
      "source": [
        "def Fibonacci(n):\n",
        "    if n <= 1:\n",
        "        return n\n",
        "    previous = 0\n",
        "    current = 1\n",
        "    for i in range(n - 1):\n",
        "        oldPrevious = previous\n",
        "        previous = current\n",
        "        current = oldPrevious + previous\n",
        "    return current\n",
        "\n",
        "\n",
        "if __name__ == '__main__':\n",
        "    n = int(input())\n",
        "    print(Fibonacci(n))"
      ],
      "metadata": {
        "colab": {
          "base_uri": "https://localhost:8080/"
        },
        "id": "8OVgMhUhoi5D",
        "outputId": "0c11f68f-1225-4c51-d004-b17754a429a5"
      },
      "execution_count": 7,
      "outputs": [
        {
          "output_type": "stream",
          "name": "stdout",
          "text": [
            "10\n",
            "55\n"
          ]
        }
      ]
    },
    {
      "cell_type": "markdown",
      "source": [
        "Последнее число Фибоначчи"
      ],
      "metadata": {
        "id": "r3jcSyDEHz4K"
      }
    },
    {
      "cell_type": "code",
      "source": [
        "def FibonacciLastDigit(n):\n",
        "    if n <= 1:\n",
        "        return n\n",
        "    F = [0, 1]\n",
        "    for i in range(2, n + 1):\n",
        "        F.append((F[i - 1] + F[i - 2]) % 10)\n",
        "    return F[n]\n",
        "\n",
        "if __name__ == '__main__':\n",
        "    n = int(input())\n",
        "    print(FibonacciLastDigit(n))\n"
      ],
      "metadata": {
        "colab": {
          "base_uri": "https://localhost:8080/"
        },
        "id": "ahvyERljpgN2",
        "outputId": "70b5ede9-6a53-4a08-8f7b-f9f9c52efadc"
      },
      "execution_count": 16,
      "outputs": [
        {
          "output_type": "stream",
          "name": "stdout",
          "text": [
            "10\n",
            "5\n"
          ]
        }
      ]
    },
    {
      "cell_type": "markdown",
      "source": [
        "Последнее число Фибоначчи остатка по m"
      ],
      "metadata": {
        "id": "QqgEw0qtH6ga"
      }
    },
    {
      "cell_type": "code",
      "source": [
        "def Multiply2x2Matrices(A, B, m):\n",
        "    C = [[0, 0], [0, 0]]\n",
        "    C[0][0] = (A[0][0]*B[0][0] + A[0][1]*B[1][0]) % m\n",
        "    C[0][1] = (A[0][0]*B[0][1] + A[0][1]*B[1][1]) % m\n",
        "    C[1][0] = (A[1][0]*B[0][0] + A[1][1]*B[1][0]) % m\n",
        "    C[1][1] = (A[1][0]*B[0][1] + A[1][1]*B[1][1]) % m\n",
        "    return C\n",
        "\n",
        "\n",
        "def FastMatrixExponentiation(D, n, m):\n",
        "    if n == 0:\n",
        "        return [[1, 0], [0, 1]] # единичная 2×2 матрица\n",
        "    if n % 2 == 0: # чётное значение\n",
        "        Y = FastMatrixExponentiation(D, n/2, m)\n",
        "        return Multiply2x2Matrices(Y, Y, m)\n",
        "    else:\n",
        "        Y = FastMatrixExponentiation(D, (n - 1)/2, m)\n",
        "        Y2 = Multiply2x2Matrices(Y, Y, m)\n",
        "        return Multiply2x2Matrices(Y2, D, m)\n",
        "\n",
        "\n",
        "def FibonacciModuloM(n, m):\n",
        "\tM = [[0, 1], [1, 1]]\n",
        "\tP = FastMatrixExponentiation(M, n, m)\n",
        "\treturn P[0][1]\n",
        "\n",
        "\n",
        "n, m = map(int, input().split())\n",
        "print(FibonacciModuloM(n, m))"
      ],
      "metadata": {
        "colab": {
          "base_uri": "https://localhost:8080/"
        },
        "id": "M7R-2xNfIMCF",
        "outputId": "9dc713df-8feb-4a82-fc5f-56395b9bff17"
      },
      "execution_count": 38,
      "outputs": [
        {
          "output_type": "stream",
          "name": "stdout",
          "text": [
            "1 239\n",
            "1\n"
          ]
        }
      ]
    },
    {
      "cell_type": "markdown",
      "source": [
        "Последняя цифра частичной суммы чисел Фибоначчи"
      ],
      "metadata": {
        "id": "2PSIVmaSQmaf"
      }
    },
    {
      "cell_type": "code",
      "source": [
        "def Multiply2x2Matrices(A, B, m):\n",
        "    C = [[0, 0], [0, 0]]\n",
        "    C[0][0] = (A[0][0]*B[0][0] + A[0][1]*B[1][0]) % m\n",
        "    C[0][1] = (A[0][0]*B[0][1] + A[0][1]*B[1][1]) % m\n",
        "    C[1][0] = (A[1][0]*B[0][0] + A[1][1]*B[1][0]) % m\n",
        "    C[1][1] = (A[1][0]*B[0][1] + A[1][1]*B[1][1]) % m\n",
        "    return C\n",
        "\n",
        "\n",
        "def FastMatrixExponentiation(D, n, m):\n",
        "    if n == 0:\n",
        "        return [[1, 0], [0, 1]] # единичная 2×2 матрица\n",
        "    if n % 2 == 0: # чётное значение\n",
        "        Y = FastMatrixExponentiation(D, n/2, m)\n",
        "        return Multiply2x2Matrices(Y, Y, m)\n",
        "    else:\n",
        "        Y = FastMatrixExponentiation(D, (n - 1)/2, m)\n",
        "        Y2 = Multiply2x2Matrices(Y, Y, m)\n",
        "        return Multiply2x2Matrices(Y2, D, m)\n",
        "\n",
        "\n",
        "def FibonacciModuloM(n, m):\n",
        "\tM = [[0, 1], [1, 1]]\n",
        "\tP = FastMatrixExponentiation(M, n, m)\n",
        "\treturn P[0][1]\n",
        "\n",
        "\n",
        "def FibonacciSum(n, m):\n",
        "    res = FibonacciModuloM(n + 2, m) - 1\n",
        "    if res == -1:\n",
        "        return 9\n",
        "    else:\n",
        "        return res\n",
        "\n",
        "\n",
        "m, n = map(int, input().split())\n",
        "print(FibonacciSum(n, n) - FibonacciSum(m - 1, m - 1) % 10)"
      ],
      "metadata": {
        "colab": {
          "base_uri": "https://localhost:8080/"
        },
        "id": "AckWD9YRQnBq",
        "outputId": "85addda5-db3c-4f18-e72e-75a641f255c4"
      },
      "execution_count": 45,
      "outputs": [
        {
          "output_type": "stream",
          "name": "stdout",
          "text": [
            "10 10\n",
            "-4\n"
          ]
        }
      ]
    },
    {
      "cell_type": "code",
      "source": [
        "def get_fibonacci_huge(n, m):\n",
        "    if n <= 1:\n",
        "        return n\n",
        "    previous = 0\n",
        "    current  = 1\n",
        "    pisano_table = []\n",
        "\n",
        "    for i in range(n - 1):\n",
        "        pisano_table.append(previous % m)\n",
        "        previous, current = current, previous + current\n",
        "        if fast_detect_pisano_period(pisano_table):\n",
        "        #now, we have pisano table, we just get index for pisano_table at reminder of n % period\n",
        "            return pisano_table[n % period]\n",
        "\n",
        "    return current % m\n",
        "\n",
        "def fast_detect_pisano_period(pisano_table):\n",
        "    # Instead of check left_half pisano_table equal right_half pisano_table.\n",
        "    # We just need to check first ten elements of left_half equal to ten elements of right_half.\n",
        "    pisano_table[size-10] == 0 and\n",
        "    pisano_table[size-9] == 1 and\n",
        "    pisano_table[0:10] == pisano_table[(size-10):size]\n",
        "\n",
        "\n",
        "m, n = map(int, input().split())\n",
        "def fibonacci_partial_sum_improved(m, n):\n",
        "    return (get_fibonacci_huge(n+2, 10) + 10 - get_fibonacci_huge(m+1, 10)) % 10"
      ],
      "metadata": {
        "colab": {
          "base_uri": "https://localhost:8080/",
          "height": 140
        },
        "id": "yEnzuTVwQmvn",
        "outputId": "2ef8e91f-70fd-450b-a811-123f5038b818"
      },
      "execution_count": 48,
      "outputs": [
        {
          "output_type": "error",
          "ename": "SyntaxError",
          "evalue": "ignored",
          "traceback": [
            "\u001b[0;36m  File \u001b[0;32m\"<ipython-input-48-81984ba0bbdd>\"\u001b[0;36m, line \u001b[0;32m11\u001b[0m\n\u001b[0;31m    if fast_detect_pisano_period(pisano_table)\u001b[0m\n\u001b[0m                                              ^\u001b[0m\n\u001b[0;31mSyntaxError\u001b[0m\u001b[0;31m:\u001b[0m expected ':'\n"
          ]
        }
      ]
    },
    {
      "cell_type": "code",
      "source": [
        "def get_period_length(m):\n",
        "   # instantiate prev and curr to be the first two Fibonacci numbers\n",
        "   prev, curr = 0, 1\n",
        "   # keep finding new elements of the period until we find 01 again\n",
        "   for i in range(2, m * m + 1):\n",
        "      prev, curr = curr, (prev + curr) % m\n",
        "      if prev == 0 and curr == 1:\n",
        "         return i - 1\n",
        "   # default return if for some reason we don't find 01\n",
        "   return 0\n",
        "\n",
        "\n",
        "def get_pisano_period(m):\n",
        "   # get length of period\n",
        "   length = get_period_length(m)\n",
        "   # instantiate a list of length 'length' beginning with 0 & 1\n",
        "   period = [0] * length\n",
        "   period[0] = 0\n",
        "   period[1] = 1\n",
        "   # fill in the entirety of the period\n",
        "   for i in range(2, length):\n",
        "      period[i] = (period[i-1] + period[i-2]) % n\n",
        "\n",
        "   return period\n",
        "\n",
        "\n",
        "def fibonacci_partial_sum(m, n):\n",
        "   # if n < 2, automatically return n\n",
        "   if n < 2:\n",
        "      return n\n",
        "   # get the Pisano period of modulus m = 10\n",
        "   period = get_pisano_period(10)\n",
        "   length = len(period)\n",
        "\n",
        "\n",
        "m, n = map(int, input().split())\n",
        "print(FibonacciModuloM(m, n))"
      ],
      "metadata": {
        "colab": {
          "base_uri": "https://localhost:8080/"
        },
        "id": "wzBJ2rsiaskU",
        "outputId": "3c96b3fe-e18d-44c3-b060-6322dddb1046"
      },
      "execution_count": 50,
      "outputs": [
        {
          "output_type": "stream",
          "name": "stdout",
          "text": [
            "3 7\n",
            "2\n"
          ]
        }
      ]
    },
    {
      "cell_type": "code",
      "source": [],
      "metadata": {
        "id": "R7tZJhHidJBs"
      },
      "execution_count": null,
      "outputs": []
    }
  ]
}