{
 "cells": [
  {
   "cell_type": "markdown",
   "id": "7b16a867",
   "metadata": {},
   "source": [
    "Cоздать модель с помощью RandomForest и xgboost, \n",
    "оптимизировать параметры.\n",
    "Метрика - Root Mean Squared Logarithmic Error\n",
    "https://www.kaggle.com/c/grupo-bimbo-inventory-demand/overview/evaluation"
   ]
  },
  {
   "cell_type": "code",
   "execution_count": 1,
   "id": "8aeceba2",
   "metadata": {},
   "outputs": [],
   "source": [
    "'''Importing Data Manipulattion Modules'''\n",
    "import re\n",
    "import numpy as np\n",
    "import pandas as pd\n",
    "from pandas.core.dtypes.dtypes import CategoricalDtype\n",
    "from scipy.stats import norm, skew\n",
    "from scipy.special import boxcox1p\n",
    "pd.set_option('display.float_format', lambda x: '{:.3f}'.format(x))\n",
    "pd.set_option(\"display.max_columns\", 81)\n",
    "pd.set_option(\"display.max_rows\", 101)\n",
    "pd.set_option(\"display.max_colwidth\", 100)\n",
    "\n",
    "'''Seaborn and Matplotlib Visualization'''\n",
    "import matplotlib.pyplot as plt\n",
    "import seaborn as sns\n",
    "plt.style.use('bmh')                    \n",
    "sns.set_style({'axes.grid':False}) \n",
    "sns.set_style('whitegrid')\n",
    "%matplotlib inline\n",
    "\n",
    "'''Validation'''\n",
    "from sklearn.model_selection import KFold, cross_val_score\n",
    "\n",
    "'''Ignore deprecation and future, and user warnings.'''\n",
    "import warnings as wrn\n",
    "wrn.filterwarnings('ignore', category = DeprecationWarning) \n",
    "wrn.filterwarnings('ignore', category = FutureWarning) \n",
    "wrn.filterwarnings('ignore', category = UserWarning) "
   ]
  },
  {
   "cell_type": "code",
   "execution_count": 2,
   "id": "9d471103",
   "metadata": {},
   "outputs": [
    {
     "name": "stdout",
     "output_type": "stream",
     "text": [
      "town_state's shape: (790, 5)\n"
     ]
    },
    {
     "data": {
      "text/html": [
       "<div>\n",
       "<style scoped>\n",
       "    .dataframe tbody tr th:only-of-type {\n",
       "        vertical-align: middle;\n",
       "    }\n",
       "\n",
       "    .dataframe tbody tr th {\n",
       "        vertical-align: top;\n",
       "    }\n",
       "\n",
       "    .dataframe thead th {\n",
       "        text-align: right;\n",
       "    }\n",
       "</style>\n",
       "<table border=\"1\" class=\"dataframe\">\n",
       "  <thead>\n",
       "    <tr style=\"text-align: right;\">\n",
       "      <th></th>\n",
       "      <th>Agencia_ID</th>\n",
       "      <th>Town</th>\n",
       "      <th>State</th>\n",
       "      <th>Town_ID</th>\n",
       "      <th>Town_name</th>\n",
       "    </tr>\n",
       "  </thead>\n",
       "  <tbody>\n",
       "    <tr>\n",
       "      <th>0</th>\n",
       "      <td>1110</td>\n",
       "      <td>2008 AG. LAGO FILT</td>\n",
       "      <td>MÉXICO, D.F.</td>\n",
       "      <td>2008</td>\n",
       "      <td>AG. LAGO FILT</td>\n",
       "    </tr>\n",
       "    <tr>\n",
       "      <th>1</th>\n",
       "      <td>1111</td>\n",
       "      <td>2002 AG. AZCAPOTZALCO</td>\n",
       "      <td>MÉXICO, D.F.</td>\n",
       "      <td>2002</td>\n",
       "      <td>AG. AZCAPOTZALCO</td>\n",
       "    </tr>\n",
       "    <tr>\n",
       "      <th>2</th>\n",
       "      <td>1112</td>\n",
       "      <td>2004 AG. CUAUTITLAN</td>\n",
       "      <td>ESTADO DE MÉXICO</td>\n",
       "      <td>2004</td>\n",
       "      <td>AG. CUAUTITLAN</td>\n",
       "    </tr>\n",
       "    <tr>\n",
       "      <th>3</th>\n",
       "      <td>1113</td>\n",
       "      <td>2008 AG. LAGO FILT</td>\n",
       "      <td>MÉXICO, D.F.</td>\n",
       "      <td>2008</td>\n",
       "      <td>AG. LAGO FILT</td>\n",
       "    </tr>\n",
       "    <tr>\n",
       "      <th>4</th>\n",
       "      <td>1114</td>\n",
       "      <td>2029 AG.IZTAPALAPA 2</td>\n",
       "      <td>MÉXICO, D.F.</td>\n",
       "      <td>2029</td>\n",
       "      <td>AG.IZTAPALAPA 2</td>\n",
       "    </tr>\n",
       "  </tbody>\n",
       "</table>\n",
       "</div>"
      ],
      "text/plain": [
       "   Agencia_ID                   Town             State  Town_ID  \\\n",
       "0        1110     2008 AG. LAGO FILT      MÉXICO, D.F.     2008   \n",
       "1        1111  2002 AG. AZCAPOTZALCO      MÉXICO, D.F.     2002   \n",
       "2        1112    2004 AG. CUAUTITLAN  ESTADO DE MÉXICO     2004   \n",
       "3        1113     2008 AG. LAGO FILT      MÉXICO, D.F.     2008   \n",
       "4        1114   2029 AG.IZTAPALAPA 2      MÉXICO, D.F.     2029   \n",
       "\n",
       "          Town_name  \n",
       "0     AG. LAGO FILT  \n",
       "1  AG. AZCAPOTZALCO  \n",
       "2    AG. CUAUTITLAN  \n",
       "3     AG. LAGO FILT  \n",
       "4   AG.IZTAPALAPA 2  "
      ]
     },
     "execution_count": 2,
     "metadata": {},
     "output_type": "execute_result"
    }
   ],
   "source": [
    "dtype = {'Agencia_ID': 'int16'}\n",
    "town_state_df = pd.read_csv(\"../lab02/town_state.csv\", dtype=dtype)\n",
    "\n",
    "town_state_df['Town_ID'] = town_state_df.Town.apply(lambda x: x.split(' ')[0]).astype('int16')\n",
    "town_state_df['Town_name'] = town_state_df.Town.apply(lambda x: ' '.join(x.split(' ')[1:]))\n",
    "\n",
    "print(f'town_state\\'s shape: {town_state_df.shape}')\n",
    "town_state_df.head(5)"
   ]
  },
  {
   "cell_type": "code",
   "execution_count": 3,
   "id": "150f43c9",
   "metadata": {},
   "outputs": [
    {
     "name": "stdout",
     "output_type": "stream",
     "text": [
      "<class 'pandas.core.frame.DataFrame'>\n",
      "RangeIndex: 790 entries, 0 to 789\n",
      "Data columns (total 5 columns):\n",
      " #   Column      Non-Null Count  Dtype \n",
      "---  ------      --------------  ----- \n",
      " 0   Agencia_ID  790 non-null    int16 \n",
      " 1   Town        790 non-null    object\n",
      " 2   State       790 non-null    object\n",
      " 3   Town_ID     790 non-null    int16 \n",
      " 4   Town_name   790 non-null    object\n",
      "dtypes: int16(2), object(3)\n",
      "memory usage: 21.7+ KB\n"
     ]
    }
   ],
   "source": [
    "town_state_df.info()"
   ]
  },
  {
   "cell_type": "code",
   "execution_count": 4,
   "id": "842ffb31",
   "metadata": {},
   "outputs": [
    {
     "name": "stdout",
     "output_type": "stream",
     "text": [
      "product's shape: (2592, 6)\n"
     ]
    },
    {
     "data": {
      "text/html": [
       "<div>\n",
       "<style scoped>\n",
       "    .dataframe tbody tr th:only-of-type {\n",
       "        vertical-align: middle;\n",
       "    }\n",
       "\n",
       "    .dataframe tbody tr th {\n",
       "        vertical-align: top;\n",
       "    }\n",
       "\n",
       "    .dataframe thead th {\n",
       "        text-align: right;\n",
       "    }\n",
       "</style>\n",
       "<table border=\"1\" class=\"dataframe\">\n",
       "  <thead>\n",
       "    <tr style=\"text-align: right;\">\n",
       "      <th></th>\n",
       "      <th>Producto_ID</th>\n",
       "      <th>NombreProducto</th>\n",
       "      <th>popular_name</th>\n",
       "      <th>property</th>\n",
       "      <th>unit</th>\n",
       "      <th>pieces</th>\n",
       "    </tr>\n",
       "  </thead>\n",
       "  <tbody>\n",
       "    <tr>\n",
       "      <th>0</th>\n",
       "      <td>0</td>\n",
       "      <td>NO IDENTIFICADO 0</td>\n",
       "      <td>NaN</td>\n",
       "      <td>NaN</td>\n",
       "      <td>NaN</td>\n",
       "      <td>NaN</td>\n",
       "    </tr>\n",
       "    <tr>\n",
       "      <th>1</th>\n",
       "      <td>9</td>\n",
       "      <td>Capuccino Moka 750g NES 9</td>\n",
       "      <td>Capuccino Moka</td>\n",
       "      <td>NES</td>\n",
       "      <td>750g</td>\n",
       "      <td>NaN</td>\n",
       "    </tr>\n",
       "    <tr>\n",
       "      <th>2</th>\n",
       "      <td>41</td>\n",
       "      <td>Bimbollos Ext sAjonjoli 6p 480g BIM 41</td>\n",
       "      <td>Bimbollos Ext sAjonjoli</td>\n",
       "      <td>BIM</td>\n",
       "      <td>480g</td>\n",
       "      <td>6p</td>\n",
       "    </tr>\n",
       "    <tr>\n",
       "      <th>3</th>\n",
       "      <td>53</td>\n",
       "      <td>Burritos Sincro 170g CU LON 53</td>\n",
       "      <td>Burritos Sincro</td>\n",
       "      <td>CU LON</td>\n",
       "      <td>170g</td>\n",
       "      <td>NaN</td>\n",
       "    </tr>\n",
       "    <tr>\n",
       "      <th>4</th>\n",
       "      <td>72</td>\n",
       "      <td>Div Tira Mini Doradita 4p 45g TR 72</td>\n",
       "      <td>Div Tira Mini Doradita</td>\n",
       "      <td>TR</td>\n",
       "      <td>45g</td>\n",
       "      <td>4p</td>\n",
       "    </tr>\n",
       "  </tbody>\n",
       "</table>\n",
       "</div>"
      ],
      "text/plain": [
       "   Producto_ID                          NombreProducto  \\\n",
       "0            0                       NO IDENTIFICADO 0   \n",
       "1            9               Capuccino Moka 750g NES 9   \n",
       "2           41  Bimbollos Ext sAjonjoli 6p 480g BIM 41   \n",
       "3           53          Burritos Sincro 170g CU LON 53   \n",
       "4           72     Div Tira Mini Doradita 4p 45g TR 72   \n",
       "\n",
       "              popular_name property   unit pieces  \n",
       "0                      NaN      NaN    NaN    NaN  \n",
       "1           Capuccino Moka      NES   750g    NaN  \n",
       "2  Bimbollos Ext sAjonjoli      BIM   480g     6p  \n",
       "3          Burritos Sincro   CU LON   170g    NaN  \n",
       "4   Div Tira Mini Doradita       TR    45g     4p  "
      ]
     },
     "execution_count": 4,
     "metadata": {},
     "output_type": "execute_result"
    }
   ],
   "source": [
    "dtype = {'Producto_ID': 'int32'}\n",
    "product_df = pd.read_csv(\"../lab02/producto_tabla.csv\", dtype=dtype)\n",
    "\n",
    "product_df['popular_name'] = product_df.NombreProducto.str.extract(r'^(.*?)(\\d*\\s\\d+(kg|Kg|g|G|ml| ml|p|Reb)\\s)', expand=False)[0]\n",
    "product_df['property'] = product_df.NombreProducto.str.extract(r'^.*\\d+(kg|Kg|g|G|ml| ml|p|Reb)\\s(.*?)\\s\\d+$', expand=False)[1]\n",
    "product_df['unit'] = product_df.NombreProducto.str.extract(r'(\\d*\\s\\d+(kg|Kg|g|G|ml| ml))', expand=False)[0]\n",
    "product_df['pieces'] =  product_df.NombreProducto.str.extract('(\\d+(p|Reb)) ', expand=False)[0]\n",
    "\n",
    "print(f'product\\'s shape: {product_df.shape}')\n",
    "product_df.head(5)"
   ]
  },
  {
   "cell_type": "code",
   "execution_count": 5,
   "id": "41851129",
   "metadata": {},
   "outputs": [
    {
     "name": "stdout",
     "output_type": "stream",
     "text": [
      "<class 'pandas.core.frame.DataFrame'>\n",
      "RangeIndex: 2592 entries, 0 to 2591\n",
      "Data columns (total 6 columns):\n",
      " #   Column          Non-Null Count  Dtype \n",
      "---  ------          --------------  ----- \n",
      " 0   Producto_ID     2592 non-null   int32 \n",
      " 1   NombreProducto  2592 non-null   object\n",
      " 2   popular_name    2565 non-null   object\n",
      " 3   property        2571 non-null   object\n",
      " 4   unit            2532 non-null   object\n",
      " 5   pieces          1132 non-null   object\n",
      "dtypes: int32(1), object(5)\n",
      "memory usage: 111.5+ KB\n"
     ]
    }
   ],
   "source": [
    "product_df.info()"
   ]
  },
  {
   "cell_type": "code",
   "execution_count": 6,
   "id": "41a8b190",
   "metadata": {},
   "outputs": [
    {
     "name": "stdout",
     "output_type": "stream",
     "text": [
      "client's shape: (935362, 3)\n"
     ]
    },
    {
     "data": {
      "text/html": [
       "<div>\n",
       "<style scoped>\n",
       "    .dataframe tbody tr th:only-of-type {\n",
       "        vertical-align: middle;\n",
       "    }\n",
       "\n",
       "    .dataframe tbody tr th {\n",
       "        vertical-align: top;\n",
       "    }\n",
       "\n",
       "    .dataframe thead th {\n",
       "        text-align: right;\n",
       "    }\n",
       "</style>\n",
       "<table border=\"1\" class=\"dataframe\">\n",
       "  <thead>\n",
       "    <tr style=\"text-align: right;\">\n",
       "      <th></th>\n",
       "      <th>Cliente_ID</th>\n",
       "      <th>NombreCliente</th>\n",
       "      <th>dup_num</th>\n",
       "    </tr>\n",
       "  </thead>\n",
       "  <tbody>\n",
       "    <tr>\n",
       "      <th>0</th>\n",
       "      <td>0</td>\n",
       "      <td>SIN NOMBRE</td>\n",
       "      <td>1</td>\n",
       "    </tr>\n",
       "    <tr>\n",
       "      <th>1</th>\n",
       "      <td>1</td>\n",
       "      <td>OXXO XINANTECATL</td>\n",
       "      <td>1</td>\n",
       "    </tr>\n",
       "    <tr>\n",
       "      <th>2</th>\n",
       "      <td>2</td>\n",
       "      <td>SIN NOMBRE</td>\n",
       "      <td>1</td>\n",
       "    </tr>\n",
       "    <tr>\n",
       "      <th>3</th>\n",
       "      <td>3</td>\n",
       "      <td>EL MORENO</td>\n",
       "      <td>1</td>\n",
       "    </tr>\n",
       "    <tr>\n",
       "      <th>4</th>\n",
       "      <td>4</td>\n",
       "      <td>SDN SER  DE ALIM  CUERPO SA CIA  DE INT</td>\n",
       "      <td>2</td>\n",
       "    </tr>\n",
       "  </tbody>\n",
       "</table>\n",
       "</div>"
      ],
      "text/plain": [
       "   Cliente_ID                            NombreCliente  dup_num\n",
       "0           0                               SIN NOMBRE        1\n",
       "1           1                         OXXO XINANTECATL        1\n",
       "2           2                               SIN NOMBRE        1\n",
       "3           3                                EL MORENO        1\n",
       "4           4  SDN SER  DE ALIM  CUERPO SA CIA  DE INT        2"
      ]
     },
     "execution_count": 6,
     "metadata": {},
     "output_type": "execute_result"
    }
   ],
   "source": [
    "dtype = {'Cliente_ID': 'int32'}\n",
    "client_df = pd.read_csv(\"../lab02/cliente_tabla.csv\", dtype=dtype)\n",
    "\n",
    "dup_sr = client_df.groupby('Cliente_ID')['Cliente_ID'].count().astype('int8')\n",
    "dup_sr.name = 'dup_num'\n",
    "client_df = pd.merge(client_df, pd.DataFrame(dup_sr).reset_index())\n",
    "del dup_sr\n",
    "\n",
    "print(f'client\\'s shape: {client_df.shape}')\n",
    "client_df.head(5)"
   ]
  },
  {
   "cell_type": "code",
   "execution_count": 7,
   "id": "c589e1f6",
   "metadata": {},
   "outputs": [
    {
     "name": "stdout",
     "output_type": "stream",
     "text": [
      "<class 'pandas.core.frame.DataFrame'>\n",
      "Int64Index: 935362 entries, 0 to 935361\n",
      "Data columns (total 3 columns):\n",
      " #   Column         Non-Null Count   Dtype \n",
      "---  ------         --------------   ----- \n",
      " 0   Cliente_ID     935362 non-null  int32 \n",
      " 1   NombreCliente  935362 non-null  object\n",
      " 2   dup_num        935362 non-null  int8  \n",
      "dtypes: int32(1), int8(1), object(1)\n",
      "memory usage: 18.7+ MB\n"
     ]
    }
   ],
   "source": [
    "client_df.info()"
   ]
  },
  {
   "cell_type": "code",
   "execution_count": 8,
   "id": "b0c1d8c6",
   "metadata": {},
   "outputs": [
    {
     "name": "stdout",
     "output_type": "stream",
     "text": [
      "test's shape: (6999251, 7)\n"
     ]
    },
    {
     "data": {
      "text/html": [
       "<div>\n",
       "<style scoped>\n",
       "    .dataframe tbody tr th:only-of-type {\n",
       "        vertical-align: middle;\n",
       "    }\n",
       "\n",
       "    .dataframe tbody tr th {\n",
       "        vertical-align: top;\n",
       "    }\n",
       "\n",
       "    .dataframe thead th {\n",
       "        text-align: right;\n",
       "    }\n",
       "</style>\n",
       "<table border=\"1\" class=\"dataframe\">\n",
       "  <thead>\n",
       "    <tr style=\"text-align: right;\">\n",
       "      <th></th>\n",
       "      <th>id</th>\n",
       "      <th>Semana</th>\n",
       "      <th>Agencia_ID</th>\n",
       "      <th>Canal_ID</th>\n",
       "      <th>Ruta_SAK</th>\n",
       "      <th>Cliente_ID</th>\n",
       "      <th>Producto_ID</th>\n",
       "    </tr>\n",
       "  </thead>\n",
       "  <tbody>\n",
       "    <tr>\n",
       "      <th>0</th>\n",
       "      <td>0</td>\n",
       "      <td>11</td>\n",
       "      <td>4037</td>\n",
       "      <td>1</td>\n",
       "      <td>2209</td>\n",
       "      <td>4639078</td>\n",
       "      <td>35305</td>\n",
       "    </tr>\n",
       "    <tr>\n",
       "      <th>1</th>\n",
       "      <td>1</td>\n",
       "      <td>11</td>\n",
       "      <td>2237</td>\n",
       "      <td>1</td>\n",
       "      <td>1226</td>\n",
       "      <td>4705135</td>\n",
       "      <td>1238</td>\n",
       "    </tr>\n",
       "    <tr>\n",
       "      <th>2</th>\n",
       "      <td>2</td>\n",
       "      <td>10</td>\n",
       "      <td>2045</td>\n",
       "      <td>1</td>\n",
       "      <td>2831</td>\n",
       "      <td>4549769</td>\n",
       "      <td>32940</td>\n",
       "    </tr>\n",
       "    <tr>\n",
       "      <th>3</th>\n",
       "      <td>3</td>\n",
       "      <td>11</td>\n",
       "      <td>1227</td>\n",
       "      <td>1</td>\n",
       "      <td>4448</td>\n",
       "      <td>4717855</td>\n",
       "      <td>43066</td>\n",
       "    </tr>\n",
       "    <tr>\n",
       "      <th>4</th>\n",
       "      <td>4</td>\n",
       "      <td>11</td>\n",
       "      <td>1219</td>\n",
       "      <td>1</td>\n",
       "      <td>1130</td>\n",
       "      <td>966351</td>\n",
       "      <td>1277</td>\n",
       "    </tr>\n",
       "  </tbody>\n",
       "</table>\n",
       "</div>"
      ],
      "text/plain": [
       "   id  Semana  Agencia_ID  Canal_ID  Ruta_SAK  Cliente_ID  Producto_ID\n",
       "0   0      11        4037         1      2209     4639078        35305\n",
       "1   1      11        2237         1      1226     4705135         1238\n",
       "2   2      10        2045         1      2831     4549769        32940\n",
       "3   3      11        1227         1      4448     4717855        43066\n",
       "4   4      11        1219         1      1130      966351         1277"
      ]
     },
     "execution_count": 8,
     "metadata": {},
     "output_type": "execute_result"
    }
   ],
   "source": [
    "dtype = {\n",
    "    'id': 'int32',\n",
    "    'Semana': 'int8',\n",
    "    'Agencia_ID': 'int16',\n",
    "    'Canal_ID': 'int8',\n",
    "    'Ruta_SAK': 'int16',\n",
    "    'Cliente_ID': 'int32',\n",
    "    'Producto_ID': 'int32',\n",
    "}\n",
    "test_df = pd.read_csv(\"../lab02/test.csv\", dtype=dtype)\n",
    "\n",
    "print(f'test\\'s shape: {test_df.shape}')\n",
    "test_df.head()"
   ]
  },
  {
   "cell_type": "code",
   "execution_count": 9,
   "id": "08dd5db0",
   "metadata": {},
   "outputs": [
    {
     "name": "stdout",
     "output_type": "stream",
     "text": [
      "<class 'pandas.core.frame.DataFrame'>\n",
      "RangeIndex: 6999251 entries, 0 to 6999250\n",
      "Data columns (total 7 columns):\n",
      " #   Column       Dtype\n",
      "---  ------       -----\n",
      " 0   id           int32\n",
      " 1   Semana       int8 \n",
      " 2   Agencia_ID   int16\n",
      " 3   Canal_ID     int8 \n",
      " 4   Ruta_SAK     int16\n",
      " 5   Cliente_ID   int32\n",
      " 6   Producto_ID  int32\n",
      "dtypes: int16(2), int32(3), int8(2)\n",
      "memory usage: 120.2 MB\n"
     ]
    }
   ],
   "source": [
    "test_df.info()"
   ]
  },
  {
   "cell_type": "code",
   "execution_count": 10,
   "id": "6da70753",
   "metadata": {},
   "outputs": [
    {
     "name": "stdout",
     "output_type": "stream",
     "text": [
      "train's shape: (74180464, 11)\n"
     ]
    },
    {
     "data": {
      "text/html": [
       "<div>\n",
       "<style scoped>\n",
       "    .dataframe tbody tr th:only-of-type {\n",
       "        vertical-align: middle;\n",
       "    }\n",
       "\n",
       "    .dataframe tbody tr th {\n",
       "        vertical-align: top;\n",
       "    }\n",
       "\n",
       "    .dataframe thead th {\n",
       "        text-align: right;\n",
       "    }\n",
       "</style>\n",
       "<table border=\"1\" class=\"dataframe\">\n",
       "  <thead>\n",
       "    <tr style=\"text-align: right;\">\n",
       "      <th></th>\n",
       "      <th>Semana</th>\n",
       "      <th>Agencia_ID</th>\n",
       "      <th>Canal_ID</th>\n",
       "      <th>Ruta_SAK</th>\n",
       "      <th>Cliente_ID</th>\n",
       "      <th>Producto_ID</th>\n",
       "      <th>Venta_uni_hoy</th>\n",
       "      <th>Venta_hoy</th>\n",
       "      <th>Dev_uni_proxima</th>\n",
       "      <th>Dev_proxima</th>\n",
       "      <th>Demanda_uni_equil</th>\n",
       "    </tr>\n",
       "  </thead>\n",
       "  <tbody>\n",
       "    <tr>\n",
       "      <th>0</th>\n",
       "      <td>3</td>\n",
       "      <td>1110</td>\n",
       "      <td>7</td>\n",
       "      <td>3301</td>\n",
       "      <td>15766</td>\n",
       "      <td>1212</td>\n",
       "      <td>3</td>\n",
       "      <td>25.141</td>\n",
       "      <td>0</td>\n",
       "      <td>0.000</td>\n",
       "      <td>3</td>\n",
       "    </tr>\n",
       "    <tr>\n",
       "      <th>1</th>\n",
       "      <td>3</td>\n",
       "      <td>1110</td>\n",
       "      <td>7</td>\n",
       "      <td>3301</td>\n",
       "      <td>15766</td>\n",
       "      <td>1216</td>\n",
       "      <td>4</td>\n",
       "      <td>33.531</td>\n",
       "      <td>0</td>\n",
       "      <td>0.000</td>\n",
       "      <td>4</td>\n",
       "    </tr>\n",
       "    <tr>\n",
       "      <th>2</th>\n",
       "      <td>3</td>\n",
       "      <td>1110</td>\n",
       "      <td>7</td>\n",
       "      <td>3301</td>\n",
       "      <td>15766</td>\n",
       "      <td>1238</td>\n",
       "      <td>4</td>\n",
       "      <td>39.312</td>\n",
       "      <td>0</td>\n",
       "      <td>0.000</td>\n",
       "      <td>4</td>\n",
       "    </tr>\n",
       "    <tr>\n",
       "      <th>3</th>\n",
       "      <td>3</td>\n",
       "      <td>1110</td>\n",
       "      <td>7</td>\n",
       "      <td>3301</td>\n",
       "      <td>15766</td>\n",
       "      <td>1240</td>\n",
       "      <td>4</td>\n",
       "      <td>33.531</td>\n",
       "      <td>0</td>\n",
       "      <td>0.000</td>\n",
       "      <td>4</td>\n",
       "    </tr>\n",
       "    <tr>\n",
       "      <th>4</th>\n",
       "      <td>3</td>\n",
       "      <td>1110</td>\n",
       "      <td>7</td>\n",
       "      <td>3301</td>\n",
       "      <td>15766</td>\n",
       "      <td>1242</td>\n",
       "      <td>3</td>\n",
       "      <td>22.922</td>\n",
       "      <td>0</td>\n",
       "      <td>0.000</td>\n",
       "      <td>3</td>\n",
       "    </tr>\n",
       "  </tbody>\n",
       "</table>\n",
       "</div>"
      ],
      "text/plain": [
       "   Semana  Agencia_ID  Canal_ID  Ruta_SAK  Cliente_ID  Producto_ID  \\\n",
       "0       3        1110         7      3301       15766         1212   \n",
       "1       3        1110         7      3301       15766         1216   \n",
       "2       3        1110         7      3301       15766         1238   \n",
       "3       3        1110         7      3301       15766         1240   \n",
       "4       3        1110         7      3301       15766         1242   \n",
       "\n",
       "   Venta_uni_hoy  Venta_hoy  Dev_uni_proxima  Dev_proxima  Demanda_uni_equil  \n",
       "0              3     25.141                0        0.000                  3  \n",
       "1              4     33.531                0        0.000                  4  \n",
       "2              4     39.312                0        0.000                  4  \n",
       "3              4     33.531                0        0.000                  4  \n",
       "4              3     22.922                0        0.000                  3  "
      ]
     },
     "execution_count": 10,
     "metadata": {},
     "output_type": "execute_result"
    }
   ],
   "source": [
    "dtype = {\n",
    "    'Semana': 'int8',\n",
    "    'Agencia_ID': 'int16',\n",
    "    'Canal_ID': 'int8',\n",
    "    'Ruta_SAK': 'int16',\n",
    "    'Cliente_ID': 'int32',\n",
    "    'Producto_ID': 'int32',\n",
    "    'Venta_uni_hoy': 'int16',\n",
    "    'Venta_hoy': 'float16',\n",
    "    'Dev_uni_proxima': 'int32',\n",
    "    'Dev_proxima': 'float16',\n",
    "    'Demanda_uni_equil': 'int16',\n",
    "}\n",
    "train_df = pd.read_csv(\"../lab02/train.csv\", dtype=dtype)\n",
    "\n",
    "print(f'train\\'s shape: {train_df.shape}')\n",
    "train_df.head()"
   ]
  },
  {
   "cell_type": "code",
   "execution_count": 11,
   "id": "3bc4c657",
   "metadata": {},
   "outputs": [
    {
     "name": "stdout",
     "output_type": "stream",
     "text": [
      "<class 'pandas.core.frame.DataFrame'>\n",
      "RangeIndex: 74180464 entries, 0 to 74180463\n",
      "Data columns (total 11 columns):\n",
      " #   Column             Dtype  \n",
      "---  ------             -----  \n",
      " 0   Semana             int8   \n",
      " 1   Agencia_ID         int16  \n",
      " 2   Canal_ID           int8   \n",
      " 3   Ruta_SAK           int16  \n",
      " 4   Cliente_ID         int32  \n",
      " 5   Producto_ID        int32  \n",
      " 6   Venta_uni_hoy      int16  \n",
      " 7   Venta_hoy          float16\n",
      " 8   Dev_uni_proxima    int32  \n",
      " 9   Dev_proxima        float16\n",
      " 10  Demanda_uni_equil  int16  \n",
      "dtypes: float16(2), int16(4), int32(3), int8(2)\n",
      "memory usage: 1.8 GB\n"
     ]
    }
   ],
   "source": [
    "train_df.info()"
   ]
  },
  {
   "cell_type": "code",
   "execution_count": 12,
   "id": "8ce3e552",
   "metadata": {},
   "outputs": [
    {
     "name": "stdout",
     "output_type": "stream",
     "text": [
      "product price's shape: (74180464, 3)\n"
     ]
    },
    {
     "data": {
      "text/html": [
       "<div>\n",
       "<style scoped>\n",
       "    .dataframe tbody tr th:only-of-type {\n",
       "        vertical-align: middle;\n",
       "    }\n",
       "\n",
       "    .dataframe tbody tr th {\n",
       "        vertical-align: top;\n",
       "    }\n",
       "\n",
       "    .dataframe thead th {\n",
       "        text-align: right;\n",
       "    }\n",
       "</style>\n",
       "<table border=\"1\" class=\"dataframe\">\n",
       "  <thead>\n",
       "    <tr style=\"text-align: right;\">\n",
       "      <th></th>\n",
       "      <th>Producto_ID</th>\n",
       "      <th>sale_price</th>\n",
       "      <th>return_price</th>\n",
       "    </tr>\n",
       "  </thead>\n",
       "  <tbody>\n",
       "    <tr>\n",
       "      <th>0</th>\n",
       "      <td>1212</td>\n",
       "      <td>8.380</td>\n",
       "      <td>NaN</td>\n",
       "    </tr>\n",
       "    <tr>\n",
       "      <th>1</th>\n",
       "      <td>1216</td>\n",
       "      <td>8.383</td>\n",
       "      <td>NaN</td>\n",
       "    </tr>\n",
       "    <tr>\n",
       "      <th>2</th>\n",
       "      <td>1238</td>\n",
       "      <td>9.828</td>\n",
       "      <td>NaN</td>\n",
       "    </tr>\n",
       "    <tr>\n",
       "      <th>3</th>\n",
       "      <td>1240</td>\n",
       "      <td>8.383</td>\n",
       "      <td>NaN</td>\n",
       "    </tr>\n",
       "    <tr>\n",
       "      <th>4</th>\n",
       "      <td>1242</td>\n",
       "      <td>7.641</td>\n",
       "      <td>NaN</td>\n",
       "    </tr>\n",
       "  </tbody>\n",
       "</table>\n",
       "</div>"
      ],
      "text/plain": [
       "   Producto_ID  sale_price  return_price\n",
       "0         1212       8.380           NaN\n",
       "1         1216       8.383           NaN\n",
       "2         1238       9.828           NaN\n",
       "3         1240       8.383           NaN\n",
       "4         1242       7.641           NaN"
      ]
     },
     "execution_count": 12,
     "metadata": {},
     "output_type": "execute_result"
    }
   ],
   "source": [
    "sale_price_sr = (train_df.Venta_hoy / train_df.Venta_uni_hoy)\n",
    "return_price_sr = (train_df.Dev_proxima / train_df.Dev_uni_proxima)\n",
    "product_price_df = pd.DataFrame({'Producto_ID': train_df.Producto_ID, 'sale_price': sale_price_sr, 'return_price': return_price_sr})\n",
    "\n",
    "del sale_price_sr\n",
    "del return_price_sr\n",
    "\n",
    "print(f'product price\\'s shape: {product_price_df.shape}')\n",
    "product_price_df.head(5)"
   ]
  },
  {
   "cell_type": "code",
   "execution_count": 13,
   "id": "1732566b",
   "metadata": {},
   "outputs": [
    {
     "name": "stdout",
     "output_type": "stream",
     "text": [
      "<class 'pandas.core.frame.DataFrame'>\n",
      "RangeIndex: 74180464 entries, 0 to 74180463\n",
      "Data columns (total 3 columns):\n",
      " #   Column        Dtype  \n",
      "---  ------        -----  \n",
      " 0   Producto_ID   int32  \n",
      " 1   sale_price    float32\n",
      " 2   return_price  float64\n",
      "dtypes: float32(1), float64(1), int32(1)\n",
      "memory usage: 1.1 GB\n"
     ]
    }
   ],
   "source": [
    "product_price_df.info()"
   ]
  },
  {
   "cell_type": "code",
   "execution_count": 14,
   "id": "d8b9662b",
   "metadata": {},
   "outputs": [],
   "source": [
    "'''KFold for cross validation'''\n",
    "kf = KFold(n_splits=3, shuffle=True, random_state=2)\n",
    "\n",
    "'''Define the validation function'''\n",
    "def rmsle_cv(model, X, y, cv=kf):\n",
    "    rmsle = np.sqrt(\n",
    "        -cross_val_score(\n",
    "            model,\n",
    "            X, y,\n",
    "            scoring=\"neg_mean_squared_log_error\",\n",
    "            cv=cv,\n",
    "        )\n",
    "    )\n",
    "    return(rmsle)"
   ]
  },
  {
   "cell_type": "code",
   "execution_count": 15,
   "id": "de64423b",
   "metadata": {},
   "outputs": [],
   "source": [
    "town_state_df['Town'] = town_state_df['Town'].str.upper()\n",
    "town_state_df['Town_name'] = town_state_df['Town_name'].str.upper()\n",
    "town_state_df['State'] = town_state_df['State'].str.upper()"
   ]
  },
  {
   "cell_type": "code",
   "execution_count": 16,
   "id": "39a3d837",
   "metadata": {},
   "outputs": [
    {
     "data": {
      "text/plain": [
       "Town_name\n",
       "PINOTEPA       2\n",
       "LOS MOCHIS     2\n",
       "ACAPONETA      1\n",
       "NOGALES_BW     1\n",
       "NORTE          1\n",
       "NUEVO IDEAL    1\n",
       "Name: Town_ID, dtype: int64"
      ]
     },
     "execution_count": 16,
     "metadata": {},
     "output_type": "execute_result"
    }
   ],
   "source": [
    "town_state_df.groupby(['Town_name'])['Town_ID'].nunique().sort_values(ascending=False)[:6]"
   ]
  },
  {
   "cell_type": "code",
   "execution_count": 17,
   "id": "2ac984ee",
   "metadata": {},
   "outputs": [
    {
     "data": {
      "text/html": [
       "<div>\n",
       "<style scoped>\n",
       "    .dataframe tbody tr th:only-of-type {\n",
       "        vertical-align: middle;\n",
       "    }\n",
       "\n",
       "    .dataframe tbody tr th {\n",
       "        vertical-align: top;\n",
       "    }\n",
       "\n",
       "    .dataframe thead th {\n",
       "        text-align: right;\n",
       "    }\n",
       "</style>\n",
       "<table border=\"1\" class=\"dataframe\">\n",
       "  <thead>\n",
       "    <tr style=\"text-align: right;\">\n",
       "      <th></th>\n",
       "      <th>Agencia_ID</th>\n",
       "      <th>Town</th>\n",
       "      <th>State</th>\n",
       "      <th>Town_ID</th>\n",
       "      <th>Town_name</th>\n",
       "    </tr>\n",
       "  </thead>\n",
       "  <tbody>\n",
       "    <tr>\n",
       "      <th>211</th>\n",
       "      <td>1544</td>\n",
       "      <td>2561 LOS MOCHIS</td>\n",
       "      <td>SINALOA</td>\n",
       "      <td>2561</td>\n",
       "      <td>LOS MOCHIS</td>\n",
       "    </tr>\n",
       "    <tr>\n",
       "      <th>227</th>\n",
       "      <td>1564</td>\n",
       "      <td>2561 LOS MOCHIS</td>\n",
       "      <td>SINALOA</td>\n",
       "      <td>2561</td>\n",
       "      <td>LOS MOCHIS</td>\n",
       "    </tr>\n",
       "    <tr>\n",
       "      <th>248</th>\n",
       "      <td>1598</td>\n",
       "      <td>2561 LOS MOCHIS</td>\n",
       "      <td>SINALOA</td>\n",
       "      <td>2561</td>\n",
       "      <td>LOS MOCHIS</td>\n",
       "    </tr>\n",
       "    <tr>\n",
       "      <th>498</th>\n",
       "      <td>2655</td>\n",
       "      <td>2655 LOS MOCHIS</td>\n",
       "      <td>SINALOA</td>\n",
       "      <td>2655</td>\n",
       "      <td>LOS MOCHIS</td>\n",
       "    </tr>\n",
       "    <tr>\n",
       "      <th>774</th>\n",
       "      <td>25619</td>\n",
       "      <td>2561 LOS MOCHIS</td>\n",
       "      <td>SINALOA</td>\n",
       "      <td>2561</td>\n",
       "      <td>LOS MOCHIS</td>\n",
       "    </tr>\n",
       "    <tr>\n",
       "      <th>372</th>\n",
       "      <td>2023</td>\n",
       "      <td>2169 PINOTEPA</td>\n",
       "      <td>OAXACA</td>\n",
       "      <td>2169</td>\n",
       "      <td>PINOTEPA</td>\n",
       "    </tr>\n",
       "    <tr>\n",
       "      <th>387</th>\n",
       "      <td>2055</td>\n",
       "      <td>2055 PINOTEPA</td>\n",
       "      <td>PUEBLA</td>\n",
       "      <td>2055</td>\n",
       "      <td>PINOTEPA</td>\n",
       "    </tr>\n",
       "    <tr>\n",
       "      <th>599</th>\n",
       "      <td>21699</td>\n",
       "      <td>2169 PINOTEPA</td>\n",
       "      <td>OAXACA</td>\n",
       "      <td>2169</td>\n",
       "      <td>PINOTEPA</td>\n",
       "    </tr>\n",
       "  </tbody>\n",
       "</table>\n",
       "</div>"
      ],
      "text/plain": [
       "     Agencia_ID             Town    State  Town_ID   Town_name\n",
       "211        1544  2561 LOS MOCHIS  SINALOA     2561  LOS MOCHIS\n",
       "227        1564  2561 LOS MOCHIS  SINALOA     2561  LOS MOCHIS\n",
       "248        1598  2561 LOS MOCHIS  SINALOA     2561  LOS MOCHIS\n",
       "498        2655  2655 LOS MOCHIS  SINALOA     2655  LOS MOCHIS\n",
       "774       25619  2561 LOS MOCHIS  SINALOA     2561  LOS MOCHIS\n",
       "372        2023    2169 PINOTEPA   OAXACA     2169    PINOTEPA\n",
       "387        2055    2055 PINOTEPA   PUEBLA     2055    PINOTEPA\n",
       "599       21699    2169 PINOTEPA   OAXACA     2169    PINOTEPA"
      ]
     },
     "execution_count": 17,
     "metadata": {},
     "output_type": "execute_result"
    }
   ],
   "source": [
    "town_state_df[(town_state_df['Town_name'].isin(['LOS MOCHIS', 'PINOTEPA']))].sort_values(by='Town_name')"
   ]
  },
  {
   "cell_type": "code",
   "execution_count": 18,
   "id": "cc5c5f37",
   "metadata": {},
   "outputs": [],
   "source": [
    "town_state_df.loc[498, 'Town_ID'] = 2561"
   ]
  },
  {
   "cell_type": "code",
   "execution_count": 19,
   "id": "726b0afc",
   "metadata": {},
   "outputs": [
    {
     "data": {
      "text/html": [
       "<div>\n",
       "<style scoped>\n",
       "    .dataframe tbody tr th:only-of-type {\n",
       "        vertical-align: middle;\n",
       "    }\n",
       "\n",
       "    .dataframe tbody tr th {\n",
       "        vertical-align: top;\n",
       "    }\n",
       "\n",
       "    .dataframe thead th {\n",
       "        text-align: right;\n",
       "    }\n",
       "</style>\n",
       "<table border=\"1\" class=\"dataframe\">\n",
       "  <thead>\n",
       "    <tr style=\"text-align: right;\">\n",
       "      <th></th>\n",
       "      <th>Agencia_ID</th>\n",
       "      <th>Town</th>\n",
       "      <th>State</th>\n",
       "      <th>Town_ID</th>\n",
       "      <th>Town_name</th>\n",
       "    </tr>\n",
       "  </thead>\n",
       "  <tbody>\n",
       "    <tr>\n",
       "      <th>0</th>\n",
       "      <td>1110</td>\n",
       "      <td>2008 AG. LAGO FILT</td>\n",
       "      <td>MÉXICO, D.F.</td>\n",
       "      <td>2008</td>\n",
       "      <td>AG. LAGO FILT</td>\n",
       "    </tr>\n",
       "    <tr>\n",
       "      <th>1</th>\n",
       "      <td>1111</td>\n",
       "      <td>2002 AG. AZCAPOTZALCO</td>\n",
       "      <td>MÉXICO, D.F.</td>\n",
       "      <td>2002</td>\n",
       "      <td>AG. AZCAPOTZALCO</td>\n",
       "    </tr>\n",
       "    <tr>\n",
       "      <th>2</th>\n",
       "      <td>1112</td>\n",
       "      <td>2004 AG. CUAUTITLAN</td>\n",
       "      <td>ESTADO DE MÉXICO</td>\n",
       "      <td>2004</td>\n",
       "      <td>AG. CUAUTITLAN</td>\n",
       "    </tr>\n",
       "    <tr>\n",
       "      <th>3</th>\n",
       "      <td>1113</td>\n",
       "      <td>2008 AG. LAGO FILT</td>\n",
       "      <td>MÉXICO, D.F.</td>\n",
       "      <td>2008</td>\n",
       "      <td>AG. LAGO FILT</td>\n",
       "    </tr>\n",
       "    <tr>\n",
       "      <th>4</th>\n",
       "      <td>1114</td>\n",
       "      <td>2029 AG.IZTAPALAPA 2</td>\n",
       "      <td>MÉXICO, D.F.</td>\n",
       "      <td>2029</td>\n",
       "      <td>AG.IZTAPALAPA 2</td>\n",
       "    </tr>\n",
       "  </tbody>\n",
       "</table>\n",
       "</div>"
      ],
      "text/plain": [
       "   Agencia_ID                   Town             State  Town_ID  \\\n",
       "0        1110     2008 AG. LAGO FILT      MÉXICO, D.F.     2008   \n",
       "1        1111  2002 AG. AZCAPOTZALCO      MÉXICO, D.F.     2002   \n",
       "2        1112    2004 AG. CUAUTITLAN  ESTADO DE MÉXICO     2004   \n",
       "3        1113     2008 AG. LAGO FILT      MÉXICO, D.F.     2008   \n",
       "4        1114   2029 AG.IZTAPALAPA 2      MÉXICO, D.F.     2029   \n",
       "\n",
       "          Town_name  \n",
       "0     AG. LAGO FILT  \n",
       "1  AG. AZCAPOTZALCO  \n",
       "2    AG. CUAUTITLAN  \n",
       "3     AG. LAGO FILT  \n",
       "4   AG.IZTAPALAPA 2  "
      ]
     },
     "execution_count": 19,
     "metadata": {},
     "output_type": "execute_result"
    }
   ],
   "source": [
    "town_state_df.head(5)"
   ]
  },
  {
   "cell_type": "code",
   "execution_count": 20,
   "id": "2c9b850d",
   "metadata": {},
   "outputs": [
    {
     "data": {
      "text/plain": [
       "Town_ID\n",
       "2169    2\n",
       "2152    2\n",
       "2561    2\n",
       "2001    1\n",
       "2391    1\n",
       "       ..\n",
       "2257    1\n",
       "2258    1\n",
       "2259    1\n",
       "2260    1\n",
       "3216    1\n",
       "Name: Town, Length: 256, dtype: int64"
      ]
     },
     "execution_count": 20,
     "metadata": {},
     "output_type": "execute_result"
    }
   ],
   "source": [
    "town_state_df.groupby('Town_ID')['Town'].nunique().sort_values(ascending=False)"
   ]
  },
  {
   "cell_type": "code",
   "execution_count": 21,
   "id": "e582c7bf",
   "metadata": {},
   "outputs": [
    {
     "data": {
      "text/html": [
       "<div>\n",
       "<style scoped>\n",
       "    .dataframe tbody tr th:only-of-type {\n",
       "        vertical-align: middle;\n",
       "    }\n",
       "\n",
       "    .dataframe tbody tr th {\n",
       "        vertical-align: top;\n",
       "    }\n",
       "\n",
       "    .dataframe thead th {\n",
       "        text-align: right;\n",
       "    }\n",
       "</style>\n",
       "<table border=\"1\" class=\"dataframe\">\n",
       "  <thead>\n",
       "    <tr style=\"text-align: right;\">\n",
       "      <th></th>\n",
       "      <th>Agencia_ID</th>\n",
       "      <th>Town</th>\n",
       "      <th>State</th>\n",
       "      <th>Town_ID</th>\n",
       "      <th>Town_name</th>\n",
       "    </tr>\n",
       "  </thead>\n",
       "  <tbody>\n",
       "    <tr>\n",
       "      <th>199</th>\n",
       "      <td>1524</td>\n",
       "      <td>2152 CRUCE DE ANDEN NOROESTE</td>\n",
       "      <td>BAJA CALIFORNIA NORTE</td>\n",
       "      <td>2152</td>\n",
       "      <td>CRUCE DE ANDEN NOROESTE</td>\n",
       "    </tr>\n",
       "    <tr>\n",
       "      <th>371</th>\n",
       "      <td>2022</td>\n",
       "      <td>2152 ALTAMIRANO_BM</td>\n",
       "      <td>GUERRERO</td>\n",
       "      <td>2152</td>\n",
       "      <td>ALTAMIRANO_BM</td>\n",
       "    </tr>\n",
       "    <tr>\n",
       "      <th>583</th>\n",
       "      <td>21529</td>\n",
       "      <td>2152 ALTAMIRANO_BM</td>\n",
       "      <td>GUERRERO</td>\n",
       "      <td>2152</td>\n",
       "      <td>ALTAMIRANO_BM</td>\n",
       "    </tr>\n",
       "    <tr>\n",
       "      <th>311</th>\n",
       "      <td>1694</td>\n",
       "      <td>2169 CRUCE DE ANDÉN SURESTE</td>\n",
       "      <td>PUEBLA</td>\n",
       "      <td>2169</td>\n",
       "      <td>CRUCE DE ANDÉN SURESTE</td>\n",
       "    </tr>\n",
       "    <tr>\n",
       "      <th>372</th>\n",
       "      <td>2023</td>\n",
       "      <td>2169 PINOTEPA</td>\n",
       "      <td>OAXACA</td>\n",
       "      <td>2169</td>\n",
       "      <td>PINOTEPA</td>\n",
       "    </tr>\n",
       "    <tr>\n",
       "      <th>599</th>\n",
       "      <td>21699</td>\n",
       "      <td>2169 PINOTEPA</td>\n",
       "      <td>OAXACA</td>\n",
       "      <td>2169</td>\n",
       "      <td>PINOTEPA</td>\n",
       "    </tr>\n",
       "    <tr>\n",
       "      <th>211</th>\n",
       "      <td>1544</td>\n",
       "      <td>2561 LOS MOCHIS</td>\n",
       "      <td>SINALOA</td>\n",
       "      <td>2561</td>\n",
       "      <td>LOS MOCHIS</td>\n",
       "    </tr>\n",
       "    <tr>\n",
       "      <th>227</th>\n",
       "      <td>1564</td>\n",
       "      <td>2561 LOS MOCHIS</td>\n",
       "      <td>SINALOA</td>\n",
       "      <td>2561</td>\n",
       "      <td>LOS MOCHIS</td>\n",
       "    </tr>\n",
       "    <tr>\n",
       "      <th>248</th>\n",
       "      <td>1598</td>\n",
       "      <td>2561 LOS MOCHIS</td>\n",
       "      <td>SINALOA</td>\n",
       "      <td>2561</td>\n",
       "      <td>LOS MOCHIS</td>\n",
       "    </tr>\n",
       "    <tr>\n",
       "      <th>498</th>\n",
       "      <td>2655</td>\n",
       "      <td>2655 LOS MOCHIS</td>\n",
       "      <td>SINALOA</td>\n",
       "      <td>2561</td>\n",
       "      <td>LOS MOCHIS</td>\n",
       "    </tr>\n",
       "    <tr>\n",
       "      <th>774</th>\n",
       "      <td>25619</td>\n",
       "      <td>2561 LOS MOCHIS</td>\n",
       "      <td>SINALOA</td>\n",
       "      <td>2561</td>\n",
       "      <td>LOS MOCHIS</td>\n",
       "    </tr>\n",
       "  </tbody>\n",
       "</table>\n",
       "</div>"
      ],
      "text/plain": [
       "     Agencia_ID                          Town                  State  Town_ID  \\\n",
       "199        1524  2152 CRUCE DE ANDEN NOROESTE  BAJA CALIFORNIA NORTE     2152   \n",
       "371        2022            2152 ALTAMIRANO_BM               GUERRERO     2152   \n",
       "583       21529            2152 ALTAMIRANO_BM               GUERRERO     2152   \n",
       "311        1694   2169 CRUCE DE ANDÉN SURESTE                 PUEBLA     2169   \n",
       "372        2023                 2169 PINOTEPA                 OAXACA     2169   \n",
       "599       21699                 2169 PINOTEPA                 OAXACA     2169   \n",
       "211        1544               2561 LOS MOCHIS                SINALOA     2561   \n",
       "227        1564               2561 LOS MOCHIS                SINALOA     2561   \n",
       "248        1598               2561 LOS MOCHIS                SINALOA     2561   \n",
       "498        2655               2655 LOS MOCHIS                SINALOA     2561   \n",
       "774       25619               2561 LOS MOCHIS                SINALOA     2561   \n",
       "\n",
       "                   Town_name  \n",
       "199  CRUCE DE ANDEN NOROESTE  \n",
       "371            ALTAMIRANO_BM  \n",
       "583            ALTAMIRANO_BM  \n",
       "311   CRUCE DE ANDÉN SURESTE  \n",
       "372                 PINOTEPA  \n",
       "599                 PINOTEPA  \n",
       "211               LOS MOCHIS  \n",
       "227               LOS MOCHIS  \n",
       "248               LOS MOCHIS  \n",
       "498               LOS MOCHIS  \n",
       "774               LOS MOCHIS  "
      ]
     },
     "execution_count": 21,
     "metadata": {},
     "output_type": "execute_result"
    }
   ],
   "source": [
    "town_state_df[town_state_df.Town_ID.isin([2561, 2169, 2152])].sort_values(by='Town_ID')"
   ]
  },
  {
   "cell_type": "code",
   "execution_count": 22,
   "id": "3d1e0383",
   "metadata": {},
   "outputs": [
    {
     "data": {
      "text/plain": [
       "3216"
      ]
     },
     "execution_count": 22,
     "metadata": {},
     "output_type": "execute_result"
    }
   ],
   "source": [
    "town_state_df['Town_ID'].max()"
   ]
  },
  {
   "cell_type": "code",
   "execution_count": 23,
   "id": "20996c01",
   "metadata": {},
   "outputs": [],
   "source": [
    "town_state_df.loc[199, 'Town_ID'] = 3217\n",
    "town_state_df.loc[311, 'Town_ID'] = 3218"
   ]
  },
  {
   "cell_type": "code",
   "execution_count": 24,
   "id": "a0965144",
   "metadata": {},
   "outputs": [
    {
     "data": {
      "text/plain": [
       "258"
      ]
     },
     "execution_count": 24,
     "metadata": {},
     "output_type": "execute_result"
    }
   ],
   "source": [
    "town_state_df['Town_ID'].nunique()"
   ]
  },
  {
   "cell_type": "code",
   "execution_count": 25,
   "id": "2bb05c69",
   "metadata": {},
   "outputs": [
    {
     "data": {
      "text/html": [
       "<div>\n",
       "<style scoped>\n",
       "    .dataframe tbody tr th:only-of-type {\n",
       "        vertical-align: middle;\n",
       "    }\n",
       "\n",
       "    .dataframe tbody tr th {\n",
       "        vertical-align: top;\n",
       "    }\n",
       "\n",
       "    .dataframe thead th {\n",
       "        text-align: right;\n",
       "    }\n",
       "</style>\n",
       "<table border=\"1\" class=\"dataframe\">\n",
       "  <thead>\n",
       "    <tr style=\"text-align: right;\">\n",
       "      <th></th>\n",
       "      <th>Producto_ID</th>\n",
       "      <th>price</th>\n",
       "    </tr>\n",
       "  </thead>\n",
       "  <tbody>\n",
       "    <tr>\n",
       "      <th>0</th>\n",
       "      <td>41</td>\n",
       "      <td>18.127</td>\n",
       "    </tr>\n",
       "    <tr>\n",
       "      <th>1</th>\n",
       "      <td>53</td>\n",
       "      <td>14.299</td>\n",
       "    </tr>\n",
       "    <tr>\n",
       "      <th>2</th>\n",
       "      <td>72</td>\n",
       "      <td>3.699</td>\n",
       "    </tr>\n",
       "    <tr>\n",
       "      <th>3</th>\n",
       "      <td>73</td>\n",
       "      <td>21.312</td>\n",
       "    </tr>\n",
       "    <tr>\n",
       "      <th>4</th>\n",
       "      <td>100</td>\n",
       "      <td>21.578</td>\n",
       "    </tr>\n",
       "  </tbody>\n",
       "</table>\n",
       "</div>"
      ],
      "text/plain": [
       "   Producto_ID  price\n",
       "0           41 18.127\n",
       "1           53 14.299\n",
       "2           72  3.699\n",
       "3           73 21.312\n",
       "4          100 21.578"
      ]
     },
     "execution_count": 25,
     "metadata": {},
     "output_type": "execute_result"
    }
   ],
   "source": [
    "sale_prices_df = product_price_df.drop('return_price', axis=1).dropna().rename(columns={'sale_price': 'price'})\n",
    "return_prices_df = product_price_df.drop('sale_price', axis=1).dropna().rename(columns={'return_price': 'price'})\n",
    "prices_df = pd.concat([sale_prices_df, return_prices_df])\n",
    "prices_df = prices_df.groupby('Producto_ID')['price'].median().reset_index()\n",
    "prices_df.head(5)"
   ]
  },
  {
   "cell_type": "code",
   "execution_count": 26,
   "id": "ffcdf31e",
   "metadata": {},
   "outputs": [
    {
     "data": {
      "text/plain": [
       "(1799, 2)"
      ]
     },
     "execution_count": 26,
     "metadata": {},
     "output_type": "execute_result"
    }
   ],
   "source": [
    "prices_df.shape"
   ]
  },
  {
   "cell_type": "code",
   "execution_count": 27,
   "id": "4441430f",
   "metadata": {},
   "outputs": [],
   "source": [
    "product_df['in_train'] = 0\n",
    "product_df['in_test'] = 0\n",
    "product_df.loc[product_df['Producto_ID'].isin(test_df['Producto_ID'].unique()), 'in_test'] = 1\n",
    "product_df.loc[product_df['Producto_ID'].isin(train_df['Producto_ID'].unique()), 'in_train'] = 1\n",
    "product_df = product_df[(product_df['in_test'] == 1) | (product_df['in_train'] == 1)]"
   ]
  },
  {
   "cell_type": "code",
   "execution_count": 28,
   "id": "64fcacac",
   "metadata": {},
   "outputs": [
    {
     "data": {
      "text/html": [
       "<div>\n",
       "<style scoped>\n",
       "    .dataframe tbody tr th:only-of-type {\n",
       "        vertical-align: middle;\n",
       "    }\n",
       "\n",
       "    .dataframe tbody tr th {\n",
       "        vertical-align: top;\n",
       "    }\n",
       "\n",
       "    .dataframe thead th {\n",
       "        text-align: right;\n",
       "    }\n",
       "</style>\n",
       "<table border=\"1\" class=\"dataframe\">\n",
       "  <thead>\n",
       "    <tr style=\"text-align: right;\">\n",
       "      <th></th>\n",
       "      <th>Producto_ID</th>\n",
       "      <th>NombreProducto</th>\n",
       "      <th>popular_name</th>\n",
       "      <th>property</th>\n",
       "      <th>unit</th>\n",
       "      <th>pieces</th>\n",
       "      <th>in_train</th>\n",
       "      <th>in_test</th>\n",
       "    </tr>\n",
       "  </thead>\n",
       "  <tbody>\n",
       "    <tr>\n",
       "      <th>117</th>\n",
       "      <td>1289</td>\n",
       "      <td>Donas 6P Prom BIM 1289</td>\n",
       "      <td>NaN</td>\n",
       "      <td>NaN</td>\n",
       "      <td>NaN</td>\n",
       "      <td>NaN</td>\n",
       "      <td>1</td>\n",
       "      <td>0</td>\n",
       "    </tr>\n",
       "    <tr>\n",
       "      <th>190</th>\n",
       "      <td>3509</td>\n",
       "      <td>Paletina para Cafe NES 3509</td>\n",
       "      <td>NaN</td>\n",
       "      <td>NaN</td>\n",
       "      <td>NaN</td>\n",
       "      <td>NaN</td>\n",
       "      <td>1</td>\n",
       "      <td>0</td>\n",
       "    </tr>\n",
       "    <tr>\n",
       "      <th>381</th>\n",
       "      <td>30099</td>\n",
       "      <td>Camioncitos Bimbo BIM 30099</td>\n",
       "      <td>NaN</td>\n",
       "      <td>NaN</td>\n",
       "      <td>NaN</td>\n",
       "      <td>NaN</td>\n",
       "      <td>1</td>\n",
       "      <td>1</td>\n",
       "    </tr>\n",
       "    <tr>\n",
       "      <th>1152</th>\n",
       "      <td>34646</td>\n",
       "      <td>Burrito Vaporero FrijolChorizo90gCU LON 34646</td>\n",
       "      <td>NaN</td>\n",
       "      <td>NaN</td>\n",
       "      <td>NaN</td>\n",
       "      <td>NaN</td>\n",
       "      <td>1</td>\n",
       "      <td>1</td>\n",
       "    </tr>\n",
       "    <tr>\n",
       "      <th>1677</th>\n",
       "      <td>36659</td>\n",
       "      <td>Tarima Twin Pack Thins Multig CU ORO 36659</td>\n",
       "      <td>NaN</td>\n",
       "      <td>NaN</td>\n",
       "      <td>NaN</td>\n",
       "      <td>NaN</td>\n",
       "      <td>1</td>\n",
       "      <td>1</td>\n",
       "    </tr>\n",
       "    <tr>\n",
       "      <th>1888</th>\n",
       "      <td>37569</td>\n",
       "      <td>Deliciosas Chochochispas 204gPromMTA LAR 37569</td>\n",
       "      <td>NaN</td>\n",
       "      <td>NaN</td>\n",
       "      <td>204g</td>\n",
       "      <td>NaN</td>\n",
       "      <td>1</td>\n",
       "      <td>1</td>\n",
       "    </tr>\n",
       "    <tr>\n",
       "      <th>1889</th>\n",
       "      <td>37570</td>\n",
       "      <td>Deliciosas Chochochispas 204gProm LAR 37570</td>\n",
       "      <td>NaN</td>\n",
       "      <td>NaN</td>\n",
       "      <td>204g</td>\n",
       "      <td>NaN</td>\n",
       "      <td>1</td>\n",
       "      <td>1</td>\n",
       "    </tr>\n",
       "    <tr>\n",
       "      <th>2449</th>\n",
       "      <td>48033</td>\n",
       "      <td>Galleta Granel Classics Chocolate GBI 48033</td>\n",
       "      <td>NaN</td>\n",
       "      <td>NaN</td>\n",
       "      <td>NaN</td>\n",
       "      <td>NaN</td>\n",
       "      <td>1</td>\n",
       "      <td>1</td>\n",
       "    </tr>\n",
       "  </tbody>\n",
       "</table>\n",
       "</div>"
      ],
      "text/plain": [
       "      Producto_ID                                  NombreProducto  \\\n",
       "117          1289                          Donas 6P Prom BIM 1289   \n",
       "190          3509                     Paletina para Cafe NES 3509   \n",
       "381         30099                     Camioncitos Bimbo BIM 30099   \n",
       "1152        34646   Burrito Vaporero FrijolChorizo90gCU LON 34646   \n",
       "1677        36659      Tarima Twin Pack Thins Multig CU ORO 36659   \n",
       "1888        37569  Deliciosas Chochochispas 204gPromMTA LAR 37569   \n",
       "1889        37570     Deliciosas Chochochispas 204gProm LAR 37570   \n",
       "2449        48033     Galleta Granel Classics Chocolate GBI 48033   \n",
       "\n",
       "     popular_name property   unit pieces  in_train  in_test  \n",
       "117           NaN      NaN    NaN    NaN         1        0  \n",
       "190           NaN      NaN    NaN    NaN         1        0  \n",
       "381           NaN      NaN    NaN    NaN         1        1  \n",
       "1152          NaN      NaN    NaN    NaN         1        1  \n",
       "1677          NaN      NaN    NaN    NaN         1        1  \n",
       "1888          NaN      NaN   204g    NaN         1        1  \n",
       "1889          NaN      NaN   204g    NaN         1        1  \n",
       "2449          NaN      NaN    NaN    NaN         1        1  "
      ]
     },
     "execution_count": 28,
     "metadata": {},
     "output_type": "execute_result"
    }
   ],
   "source": [
    "product_df[product_df['property'].isnull()]"
   ]
  },
  {
   "cell_type": "code",
   "execution_count": 29,
   "id": "97253fc8",
   "metadata": {},
   "outputs": [],
   "source": [
    "product_df.loc[117, 'popular_name'] = 'Donas'\n",
    "product_df.loc[117, 'property'] = 'Prom BIM'\n",
    "product_df.loc[117, 'unit'] = None\n",
    "product_df.loc[117, 'pieces'] = '6p'\n",
    "\n",
    "product_df.loc[190, 'popular_name'] = 'Paletina para Cafe'\n",
    "product_df.loc[190, 'property'] = 'NES'\n",
    "product_df.loc[190, 'unit'] = None\n",
    "product_df.loc[190, 'pieces'] = None\n",
    "\n",
    "product_df.loc[381, 'popular_name'] = 'Camioncitos Bimbo'\n",
    "product_df.loc[381, 'property'] = 'BIM'\n",
    "product_df.loc[381, 'unit'] = None\n",
    "product_df.loc[381, 'pieces'] = None\n",
    "\n",
    "product_df.loc[1152, 'popular_name'] = 'Burrito Vaporero FrijolChorizo'\n",
    "product_df.loc[1152, 'property'] = 'CU LON'\n",
    "product_df.loc[1152, 'unit'] = '90g'\n",
    "product_df.loc[1152, 'pieces'] = None\n",
    "\n",
    "product_df.loc[1677, 'popular_name'] = 'Tarima Twin Pack Thins Multig'\n",
    "product_df.loc[1677, 'property'] = 'CU ORO'\n",
    "product_df.loc[1677, 'unit'] = None\n",
    "product_df.loc[1677, 'pieces'] = None\n",
    "\n",
    "product_df.loc[1888, 'popular_name'] = 'Deliciosas Chochochispas'\n",
    "product_df.loc[1888, 'property'] = 'Prom MTA LAR'\n",
    "product_df.loc[1888, 'unit'] = '204g'\n",
    "product_df.loc[1888, 'pieces'] = None\n",
    "\n",
    "product_df.loc[1889, 'popular_name'] = 'Deliciosas Chochochispas'\n",
    "product_df.loc[1889, 'property'] = 'Prom LAR'\n",
    "product_df.loc[1889, 'unit'] = '204g'\n",
    "product_df.loc[1889, 'pieces'] = None\n",
    "\n",
    "product_df.loc[2449, 'popular_name'] = 'Galleta Granel Classics Chocolate'\n",
    "product_df.loc[2449, 'property'] = 'GBI'\n",
    "product_df.loc[2449, 'unit'] = None\n",
    "product_df.loc[2449, 'pieces'] = None"
   ]
  },
  {
   "cell_type": "code",
   "execution_count": 30,
   "id": "beb1afae",
   "metadata": {},
   "outputs": [
    {
     "data": {
      "text/html": [
       "<div>\n",
       "<style scoped>\n",
       "    .dataframe tbody tr th:only-of-type {\n",
       "        vertical-align: middle;\n",
       "    }\n",
       "\n",
       "    .dataframe tbody tr th {\n",
       "        vertical-align: top;\n",
       "    }\n",
       "\n",
       "    .dataframe thead th {\n",
       "        text-align: right;\n",
       "    }\n",
       "</style>\n",
       "<table border=\"1\" class=\"dataframe\">\n",
       "  <thead>\n",
       "    <tr style=\"text-align: right;\">\n",
       "      <th></th>\n",
       "      <th>Producto_ID</th>\n",
       "      <th>NombreProducto</th>\n",
       "      <th>popular_name</th>\n",
       "      <th>property</th>\n",
       "      <th>unit</th>\n",
       "      <th>pieces</th>\n",
       "      <th>in_train</th>\n",
       "      <th>in_test</th>\n",
       "    </tr>\n",
       "  </thead>\n",
       "  <tbody>\n",
       "    <tr>\n",
       "      <th>877</th>\n",
       "      <td>32841</td>\n",
       "      <td>Tortilla Hna Chihuahua 10p535g SP MTA DH 32841</td>\n",
       "      <td>NaN</td>\n",
       "      <td>SP MTA DH</td>\n",
       "      <td>NaN</td>\n",
       "      <td>NaN</td>\n",
       "      <td>1</td>\n",
       "      <td>1</td>\n",
       "    </tr>\n",
       "    <tr>\n",
       "      <th>1585</th>\n",
       "      <td>36323</td>\n",
       "      <td>Principe Cho Bco MG 10p110g Prom CR1 MLA 36323</td>\n",
       "      <td>NaN</td>\n",
       "      <td>Prom CR1 MLA</td>\n",
       "      <td>NaN</td>\n",
       "      <td>NaN</td>\n",
       "      <td>1</td>\n",
       "      <td>1</td>\n",
       "    </tr>\n",
       "    <tr>\n",
       "      <th>1748</th>\n",
       "      <td>36927</td>\n",
       "      <td>Combo Salma mas Levite1360g Prom CUB SAN 36927</td>\n",
       "      <td>NaN</td>\n",
       "      <td>Prom CUB SAN</td>\n",
       "      <td>NaN</td>\n",
       "      <td>NaN</td>\n",
       "      <td>1</td>\n",
       "      <td>0</td>\n",
       "    </tr>\n",
       "  </tbody>\n",
       "</table>\n",
       "</div>"
      ],
      "text/plain": [
       "      Producto_ID                                  NombreProducto  \\\n",
       "877         32841  Tortilla Hna Chihuahua 10p535g SP MTA DH 32841   \n",
       "1585        36323  Principe Cho Bco MG 10p110g Prom CR1 MLA 36323   \n",
       "1748        36927  Combo Salma mas Levite1360g Prom CUB SAN 36927   \n",
       "\n",
       "     popular_name      property unit pieces  in_train  in_test  \n",
       "877           NaN     SP MTA DH  NaN    NaN         1        1  \n",
       "1585          NaN  Prom CR1 MLA  NaN    NaN         1        1  \n",
       "1748          NaN  Prom CUB SAN  NaN    NaN         1        0  "
      ]
     },
     "execution_count": 30,
     "metadata": {},
     "output_type": "execute_result"
    }
   ],
   "source": [
    "product_df[product_df['popular_name'].isnull()]"
   ]
  },
  {
   "cell_type": "code",
   "execution_count": 31,
   "id": "7954d1ca",
   "metadata": {},
   "outputs": [],
   "source": [
    "product_df.loc[877, 'popular_name'] = 'Tortilla Hna Chihuahua'\n",
    "product_df.loc[877, 'unit'] = '535g'\n",
    "product_df.loc[877, 'pieces'] = '10p'\n",
    "\n",
    "product_df.loc[1585, 'popular_name'] = 'Principe Cho Bco MG'\n",
    "product_df.loc[1585, 'unit'] = '110g'\n",
    "product_df.loc[1585, 'pieces'] = '10p'\n",
    "\n",
    "product_df.loc[1748, 'popular_name'] = 'Combo Salma mas Levite'\n",
    "product_df.loc[1748, 'unit'] = '1360g'\n",
    "product_df.loc[1748, 'pieces'] = None"
   ]
  },
  {
   "cell_type": "code",
   "execution_count": 32,
   "id": "c147991a",
   "metadata": {},
   "outputs": [],
   "source": [
    "product_df['pieces'] = product_df['pieces'].str.extract(r'(\\d+)(p|Reb)')[0]"
   ]
  },
  {
   "cell_type": "code",
   "execution_count": 33,
   "id": "d263faf6",
   "metadata": {},
   "outputs": [],
   "source": [
    "product_df['weight'] = product_df['unit'].str.strip()\n",
    "product_df['weight'] = product_df['weight'].str.replace(' ', '.')\n",
    "product_df['weight'] = product_df['weight'].str.upper()\n",
    "w = product_df['weight'].str.extract('(.+?)(KG|G|ML)', expand=True)\n",
    "product_df['weight'] = w[0].astype('float') * w[1].map({'KG':1000, 'G':1, 'ML':1})"
   ]
  },
  {
   "cell_type": "code",
   "execution_count": 34,
   "id": "8364148b",
   "metadata": {},
   "outputs": [],
   "source": [
    "product_df = pd.merge(product_df, prices_df, how='left')"
   ]
  },
  {
   "cell_type": "code",
   "execution_count": 35,
   "id": "eed17938",
   "metadata": {},
   "outputs": [],
   "source": [
    "product_df['pieces'] = product_df['pieces'].fillna(1)"
   ]
  },
  {
   "cell_type": "code",
   "execution_count": 36,
   "id": "ac65e5fa",
   "metadata": {},
   "outputs": [
    {
     "data": {
      "text/plain": [
       "311.0"
      ]
     },
     "execution_count": 36,
     "metadata": {},
     "output_type": "execute_result"
    }
   ],
   "source": [
    "product_df[product_df['weight'].isnull()]['price'].max()"
   ]
  },
  {
   "cell_type": "code",
   "execution_count": 37,
   "id": "f44f4e5d",
   "metadata": {},
   "outputs": [
    {
     "data": {
      "text/plain": [
       "1880.0"
      ]
     },
     "execution_count": 37,
     "metadata": {},
     "output_type": "execute_result"
    }
   ],
   "source": [
    "product_df[product_df['price'].isnull()]['weight'].max()"
   ]
  },
  {
   "cell_type": "code",
   "execution_count": 38,
   "id": "0b34a63f",
   "metadata": {},
   "outputs": [
    {
     "data": {
      "image/png": "[encoded data removed]",
      "text/plain": [
       "<Figure size 1152x576 with 1 Axes>"
      ]
     },
     "metadata": {
      "needs_background": "light"
     },
     "output_type": "display_data"
    }
   ],
   "source": [
    "df = product_df.dropna()\n",
    "df = df[(df['price'] <= 311) & (df['weight'] <= 1880)]\n",
    "plt.figure(figsize=(16,8))\n",
    "sns.scatterplot(x='weight', y='price', data=df)\n",
    "del df"
   ]
  },
  {
   "cell_type": "code",
   "execution_count": 39,
   "id": "7bc8ee68",
   "metadata": {},
   "outputs": [],
   "source": [
    "from sklearn.linear_model import LinearRegression\n",
    "\n",
    "df = product_df.dropna()\n",
    "df = df[(df['price'] <= 100) & (df['weight'] <= 1880)]\n",
    "\n",
    "# predict missing prices\n",
    "lf = LinearRegression()\n",
    "lf.fit(df['weight'].values.reshape(-1, 1), df['price'])\n",
    "\n",
    "prices = lf.predict(product_df[product_df['price'].isnull()]['weight'].values.reshape(-1, 1))\n",
    "\n",
    "product_df.loc[product_df['price'].isnull(), 'price'] = prices\n",
    "\n",
    "# predict missing weights\n",
    "lf = LinearRegression()\n",
    "lf.fit(df['price'].values.reshape(-1, 1), df['weight'])\n",
    "\n",
    "weights = lf.predict(product_df[product_df['weight'].isnull()]['price'].values.reshape(-1, 1))\n",
    "\n",
    "product_df.loc[product_df['weight'].isnull(), 'weight'] = weights\n",
    "\n",
    "del df\n",
    "del prices\n",
    "del weights"
   ]
  },
  {
   "cell_type": "code",
   "execution_count": 40,
   "id": "17368320",
   "metadata": {},
   "outputs": [
    {
     "data": {
      "text/plain": [
       "True"
      ]
     },
     "execution_count": 40,
     "metadata": {},
     "output_type": "execute_result"
    }
   ],
   "source": [
    "(product_df.drop(['unit'], axis=1).isnull().sum() == 0).all()"
   ]
  },
  {
   "cell_type": "code",
   "execution_count": 41,
   "id": "18eaca42",
   "metadata": {},
   "outputs": [],
   "source": [
    "product_df['pieces'] = product_df['pieces'].astype('int16')\n",
    "product_df['in_train'] = product_df['in_train'].astype('bool')\n",
    "product_df['in_test'] = product_df['in_test'].astype('bool')\n",
    "product_df['weight'] = product_df['weight'].astype('float16')\n",
    "product_df['price'] = product_df['price'].astype('float16')"
   ]
  },
  {
   "cell_type": "code",
   "execution_count": 42,
   "id": "a46304d5",
   "metadata": {},
   "outputs": [],
   "source": [
    "town_state_df['State'] = town_state_df['State'].astype('category')"
   ]
  },
  {
   "cell_type": "code",
   "execution_count": 43,
   "id": "9694eb13",
   "metadata": {},
   "outputs": [],
   "source": [
    "train_df['Canal_ID'] = train_df['Canal_ID'].astype('category')\n",
    "test_df['Canal_ID'] = test_df['Canal_ID'].astype('category')"
   ]
  },
  {
   "cell_type": "code",
   "execution_count": 44,
   "id": "601bbb46",
   "metadata": {},
   "outputs": [],
   "source": [
    "train_df.drop(['Venta_uni_hoy', 'Venta_hoy', 'Dev_uni_proxima', 'Dev_proxima'], axis=1, inplace=True)"
   ]
  },
  {
   "cell_type": "code",
   "execution_count": 45,
   "id": "94659068",
   "metadata": {},
   "outputs": [],
   "source": [
    "train_df = pd.merge(train_df, town_state_df[['Agencia_ID', 'Town_ID']], how='left')\n",
    "test_df = pd.merge(test_df, town_state_df[['Agencia_ID', 'Town_ID']], how='left')\n",
    "train_df.drop('Agencia_ID', axis=1, inplace=True)\n",
    "test_df.drop('Agencia_ID', axis=1, inplace=True)"
   ]
  },
  {
   "cell_type": "code",
   "execution_count": 46,
   "id": "d09d7726",
   "metadata": {},
   "outputs": [],
   "source": [
    "train_df = pd.merge(\n",
    "    train_df,\n",
    "    product_df[[\n",
    "        'Producto_ID', 'popular_name', 'property',\n",
    "        'pieces', 'weight', 'price'\n",
    "    ]], how='left')\n",
    "test_df = pd.merge(\n",
    "    test_df,\n",
    "    product_df[[\n",
    "        'Producto_ID', 'popular_name', 'property',\n",
    "        'pieces', 'weight', 'price'\n",
    "    ]], how='left')"
   ]
  },
  {
   "cell_type": "code",
   "execution_count": 47,
   "id": "988bf1a2",
   "metadata": {},
   "outputs": [
    {
     "data": {
      "text/html": [
       "<div>\n",
       "<style scoped>\n",
       "    .dataframe tbody tr th:only-of-type {\n",
       "        vertical-align: middle;\n",
       "    }\n",
       "\n",
       "    .dataframe tbody tr th {\n",
       "        vertical-align: top;\n",
       "    }\n",
       "\n",
       "    .dataframe thead th {\n",
       "        text-align: right;\n",
       "    }\n",
       "</style>\n",
       "<table border=\"1\" class=\"dataframe\">\n",
       "  <thead>\n",
       "    <tr style=\"text-align: right;\">\n",
       "      <th></th>\n",
       "      <th>Semana</th>\n",
       "      <th>Canal_ID</th>\n",
       "      <th>Ruta_SAK</th>\n",
       "      <th>Cliente_ID</th>\n",
       "      <th>Producto_ID</th>\n",
       "      <th>Demanda_uni_equil</th>\n",
       "      <th>Town_ID</th>\n",
       "      <th>popular_name</th>\n",
       "      <th>property</th>\n",
       "      <th>pieces</th>\n",
       "      <th>weight</th>\n",
       "      <th>price</th>\n",
       "    </tr>\n",
       "  </thead>\n",
       "  <tbody>\n",
       "    <tr>\n",
       "      <th>0</th>\n",
       "      <td>3</td>\n",
       "      <td>7</td>\n",
       "      <td>3301</td>\n",
       "      <td>15766</td>\n",
       "      <td>1212</td>\n",
       "      <td>3</td>\n",
       "      <td>2008</td>\n",
       "      <td>Roles Canela</td>\n",
       "      <td>BIM</td>\n",
       "      <td>2</td>\n",
       "      <td>120.000</td>\n",
       "      <td>8.383</td>\n",
       "    </tr>\n",
       "    <tr>\n",
       "      <th>1</th>\n",
       "      <td>3</td>\n",
       "      <td>7</td>\n",
       "      <td>3301</td>\n",
       "      <td>15766</td>\n",
       "      <td>1216</td>\n",
       "      <td>4</td>\n",
       "      <td>2008</td>\n",
       "      <td>Roles Glass</td>\n",
       "      <td>BIM</td>\n",
       "      <td>2</td>\n",
       "      <td>135.000</td>\n",
       "      <td>8.383</td>\n",
       "    </tr>\n",
       "    <tr>\n",
       "      <th>2</th>\n",
       "      <td>3</td>\n",
       "      <td>7</td>\n",
       "      <td>3301</td>\n",
       "      <td>15766</td>\n",
       "      <td>1238</td>\n",
       "      <td>4</td>\n",
       "      <td>2008</td>\n",
       "      <td>Panquecito Gota Choc</td>\n",
       "      <td>BIM</td>\n",
       "      <td>2</td>\n",
       "      <td>140.000</td>\n",
       "      <td>9.828</td>\n",
       "    </tr>\n",
       "    <tr>\n",
       "      <th>3</th>\n",
       "      <td>3</td>\n",
       "      <td>7</td>\n",
       "      <td>3301</td>\n",
       "      <td>15766</td>\n",
       "      <td>1240</td>\n",
       "      <td>4</td>\n",
       "      <td>2008</td>\n",
       "      <td>Mantecadas Vainilla</td>\n",
       "      <td>BIM</td>\n",
       "      <td>4</td>\n",
       "      <td>125.000</td>\n",
       "      <td>8.383</td>\n",
       "    </tr>\n",
       "    <tr>\n",
       "      <th>4</th>\n",
       "      <td>3</td>\n",
       "      <td>7</td>\n",
       "      <td>3301</td>\n",
       "      <td>15766</td>\n",
       "      <td>1242</td>\n",
       "      <td>3</td>\n",
       "      <td>2008</td>\n",
       "      <td>Donitas Espolvoreadas</td>\n",
       "      <td>BIM</td>\n",
       "      <td>6</td>\n",
       "      <td>105.000</td>\n",
       "      <td>7.641</td>\n",
       "    </tr>\n",
       "  </tbody>\n",
       "</table>\n",
       "</div>"
      ],
      "text/plain": [
       "   Semana Canal_ID  Ruta_SAK  Cliente_ID  Producto_ID  Demanda_uni_equil  \\\n",
       "0       3        7      3301       15766         1212                  3   \n",
       "1       3        7      3301       15766         1216                  4   \n",
       "2       3        7      3301       15766         1238                  4   \n",
       "3       3        7      3301       15766         1240                  4   \n",
       "4       3        7      3301       15766         1242                  3   \n",
       "\n",
       "   Town_ID           popular_name property  pieces  weight  price  \n",
       "0     2008           Roles Canela      BIM       2 120.000  8.383  \n",
       "1     2008            Roles Glass      BIM       2 135.000  8.383  \n",
       "2     2008   Panquecito Gota Choc      BIM       2 140.000  9.828  \n",
       "3     2008    Mantecadas Vainilla      BIM       4 125.000  8.383  \n",
       "4     2008  Donitas Espolvoreadas      BIM       6 105.000  7.641  "
      ]
     },
     "execution_count": 47,
     "metadata": {},
     "output_type": "execute_result"
    }
   ],
   "source": [
    "train_df.head(5)"
   ]
  },
  {
   "cell_type": "code",
   "execution_count": 48,
   "id": "12d5f721",
   "metadata": {},
   "outputs": [],
   "source": [
    "semana_med_s = train_df.groupby('Semana')['Demanda_uni_equil'].median()"
   ]
  },
  {
   "cell_type": "code",
   "execution_count": 49,
   "id": "85c703b4",
   "metadata": {},
   "outputs": [
    {
     "data": {
      "text/plain": [
       "Semana\n",
       "3   3.000\n",
       "4   3.000\n",
       "5   3.000\n",
       "6   3.000\n",
       "7   3.000\n",
       "8   3.000\n",
       "9   3.000\n",
       "Name: Demanda_uni_equil, dtype: float64"
      ]
     },
     "execution_count": 49,
     "metadata": {},
     "output_type": "execute_result"
    }
   ],
   "source": [
    "semana_med_s"
   ]
  },
  {
   "cell_type": "code",
   "execution_count": 50,
   "id": "ef677dfb",
   "metadata": {},
   "outputs": [],
   "source": [
    "train_df.drop('Semana', axis=1, inplace=True)\n",
    "test_df.drop('Semana', axis=1, inplace=True)\n",
    "del semana_med_s"
   ]
  },
  {
   "cell_type": "code",
   "execution_count": 51,
   "id": "179e3a3b",
   "metadata": {},
   "outputs": [],
   "source": [
    "client_med_s = train_df.groupby('Cliente_ID')['Demanda_uni_equil'].median().astype('int16')\n",
    "client_med_s.name = 'client_med'"
   ]
  },
  {
   "cell_type": "code",
   "execution_count": 52,
   "id": "abb8c95b",
   "metadata": {},
   "outputs": [],
   "source": [
    "popular_name_med_s = train_df.groupby('popular_name')['Demanda_uni_equil'].median().astype('int16')\n",
    "popular_name_med_s.name = 'popular_name_med'"
   ]
  },
  {
   "cell_type": "code",
   "execution_count": 53,
   "id": "64a6bf72",
   "metadata": {},
   "outputs": [],
   "source": [
    "town_id_med_s = train_df.groupby('Town_ID')['Demanda_uni_equil'].median().astype('int16')\n",
    "town_id_med_s.name = 'town_id_med'"
   ]
  },
  {
   "cell_type": "code",
   "execution_count": 54,
   "id": "7b287f34",
   "metadata": {},
   "outputs": [],
   "source": [
    "ruta_id_med_s = train_df.groupby('Ruta_SAK')['Demanda_uni_equil'].median().astype('int16')\n",
    "ruta_id_med_s.name = 'ruta_id_med'"
   ]
  },
  {
   "cell_type": "code",
   "execution_count": null,
   "id": "65ea63f8",
   "metadata": {},
   "outputs": [],
   "source": [
    "test_df = pd.merge(test_df, client_med_s.reset_index(), how='left')\n",
    "test_df = pd.merge(test_df, popular_name_med_s.reset_index(), how='left')\n",
    "test_df = pd.merge(test_df, town_id_med_s.reset_index(), how='left')\n",
    "test_df = pd.merge(test_df, ruta_id_med_s.reset_index(), how='left')"
   ]
  },
  {
   "cell_type": "code",
   "execution_count": null,
   "id": "39947227",
   "metadata": {},
   "outputs": [],
   "source": [
    "train_df = pd.merge(train_df, client_med_s.reset_index(), how='left')\n",
    "train_df = pd.merge(train_df, popular_name_med_s.reset_index(), how='left')\n",
    "train_df = pd.merge(train_df, town_id_med_s.reset_index(), how='left')\n",
    "train_df = pd.merge(train_df, ruta_id_med_s.reset_index(), how='left')"
   ]
  },
  {
   "cell_type": "code",
   "execution_count": null,
   "id": "b1b88d41",
   "metadata": {},
   "outputs": [],
   "source": [
    "test_df['popular_name_med'] = test_df['popular_name_med'].fillna(test_df['popular_name_med'].mean())\n",
    "test_df['client_med'] = test_df['client_med'].fillna(test_df['client_med'].mean())\n",
    "test_df['ruta_id_med'] = test_df['ruta_id_med'].fillna(test_df['ruta_id_med'].mean())"
   ]
  },
  {
   "cell_type": "code",
   "execution_count": null,
   "id": "6745e64c",
   "metadata": {},
   "outputs": [],
   "source": [
    "train_df['client_med'] = train_df['client_med'].astype('int16')\n",
    "train_df['popular_name_med'] = train_df['popular_name_med'].astype('int16')\n",
    "train_df['town_id_med'] = train_df['town_id_med'].astype('int16')\n",
    "train_df['ruta_id_med'] = train_df['ruta_id_med'].astype('int16')"
   ]
  },
  {
   "cell_type": "code",
   "execution_count": null,
   "id": "38415477",
   "metadata": {},
   "outputs": [],
   "source": [
    "test_df['client_med'] = test_df['client_med'].astype('int16')\n",
    "test_df['popular_name_med'] = test_df['popular_name_med'].astype('int16')\n",
    "test_df['town_id_med'] = test_df['town_id_med'].astype('int16')\n",
    "test_df['ruta_id_med'] = test_df['ruta_id_med'].astype('int16')"
   ]
  },
  {
   "cell_type": "code",
   "execution_count": null,
   "id": "68b8ebc3",
   "metadata": {},
   "outputs": [],
   "source": [
    "sample_train_df = train_df.sample(n=2000)\n",
    "sample_train_df['log_target'] = np.log1p(sample_train_df['Demanda_uni_equil'])"
   ]
  },
  {
   "cell_type": "code",
   "execution_count": null,
   "id": "adb97254",
   "metadata": {},
   "outputs": [],
   "source": [
    "'''correlation matrix'''\n",
    "plt.subplots(figsize=(20, 16))\n",
    "k = 20 #number of variables for heatmap\n",
    "corrmat = sample_train_df.corr()\n",
    "cols = corrmat.nlargest(k, 'log_target')['log_target'].index\n",
    "\n",
    "cm = np.corrcoef(sample_train_df[cols].values.T)\n",
    "hm = sns.heatmap(cm, cbar=True, annot=True, square=True,\n",
    "                 fmt='.2f', annot_kws={'size': 10}, cmap='Blues',\n",
    "                 yticklabels=cols.values, xticklabels=cols.values)\n",
    "plt.show()"
   ]
  },
  {
   "cell_type": "code",
   "execution_count": null,
   "id": "3918a617",
   "metadata": {},
   "outputs": [],
   "source": [
    "'''Check feature inportance by applying LightGBM'''\n",
    "import lightgbm as lgb\n",
    "model_lgb = lgb.LGBMRegressor(num_leaves=1000,\n",
    "                              max_depth=5,\n",
    "                              learning_rate=0.1,\n",
    "                              random_state=2)\n",
    "model_lgb.fit(sample_train_df.drop(['Demanda_uni_equil', 'log_target'], axis=1), sample_train_df['log_target'])"
   ]
  },
  {
   "cell_type": "code",
   "execution_count": null,
   "id": "c2d561f1",
   "metadata": {},
   "outputs": [],
   "source": [
    "df = pd.DataFrame(model_lgb.feature_importances_,\n",
    "             index=sample_train_df.drop(['Demanda_uni_equil', 'log_target'], axis=1).columns,\n",
    "             columns=['importance']).sort_values('importance', ascending=False)\n",
    "df[df.importance > 10]"
   ]
  },
  {
   "cell_type": "code",
   "execution_count": null,
   "id": "e43b7adc",
   "metadata": {},
   "outputs": [],
   "source": []
  },
  {
   "cell_type": "code",
   "execution_count": null,
   "id": "edf0f26d",
   "metadata": {},
   "outputs": [],
   "source": [
    "'''Importing Modeling Interested Modules'''\n",
    "from sklearn.base import BaseEstimator\n",
    "from sklearn.pipeline import make_pipeline\n",
    "from sklearn.preprocessing import StandardScaler, RobustScaler\n",
    "from sklearn.model_selection import GridSearchCV\n",
    "from sklearn.linear_model import LinearRegression, LassoCV, RidgeCV, ElasticNetCV\n",
    "from sklearn.svm import SVR\n",
    "from sklearn.kernel_ridge import KernelRidge\n",
    "from hyperopt import hp, tpe, space_eval\n",
    "from hyperopt.fmin import fmin\n",
    "from xgboost import XGBRegressor\n",
    "from sklearn.ensemble import RandomForestRegressor"
   ]
  },
  {
   "cell_type": "code",
   "execution_count": null,
   "id": "e70320b8",
   "metadata": {},
   "outputs": [],
   "source": [
    "'''Adjust dataframe for modeling'''\n",
    "train_y = train_df['Demanda_uni_equil']\n",
    "train_df.drop(['Demanda_uni_equil'], axis=1, inplace=True)\n",
    "train_X = train_df\n",
    "test_X = test_df.drop('id', axis=1)\n",
    "\n",
    "'''Transform categorical features to dummy variables'''\n",
    "train_X = pd.get_dummies(train_X)\n",
    "test_X = pd.get_dummies(test_X)"
   ]
  },
  {
   "cell_type": "code",
   "execution_count": null,
   "id": "338b9a2c",
   "metadata": {},
   "outputs": [],
   "source": [
    "sample_train_df['Demanda_uni_equil'] = np.expm1(sample_train_df['log_target']).astype('int32')"
   ]
  },
  {
   "cell_type": "code",
   "execution_count": null,
   "id": "2ecf3795",
   "metadata": {},
   "outputs": [],
   "source": [
    "'''Prepare sample train for the fast training'''\n",
    "sample_train_y = sample_train_df['Demanda_uni_equil']\n",
    "sample_train_df.drop(['Demanda_uni_equil', 'log_target'], axis=1, inplace=True)\n",
    "sample_train_X = sample_train_df\n",
    "\n",
    "sample_train_X = pd.get_dummies(sample_train_X)"
   ]
  },
  {
   "cell_type": "code",
   "execution_count": null,
   "id": "de737da4",
   "metadata": {},
   "outputs": [],
   "source": [
    "'''We should use the log transform of the target value'''\n",
    "class MyEstimator(BaseEstimator):\n",
    "    def __init__(self, model):\n",
    "        self.model = model\n",
    "        \n",
    "    def fit(self, X, y):\n",
    "        self.model.fit(X, np.log1p(y))\n",
    "        return self \n",
    "\n",
    "    def predict(self, X):\n",
    "        predicts = np.expm1(self.model.predict(X))\n",
    "        mask = (predicts <= 0)\n",
    "        predicts[mask] = 0\n",
    "        return predicts"
   ]
  },
  {
   "cell_type": "code",
   "execution_count": null,
   "id": "90f37c87",
   "metadata": {},
   "outputs": [],
   "source": []
  },
  {
   "cell_type": "code",
   "execution_count": null,
   "id": "231d800d",
   "metadata": {},
   "outputs": [],
   "source": []
  },
  {
   "cell_type": "code",
   "execution_count": null,
   "id": "6ba5b9bb",
   "metadata": {},
   "outputs": [],
   "source": []
  },
  {
   "cell_type": "code",
   "execution_count": null,
   "id": "b3b1e810",
   "metadata": {},
   "outputs": [],
   "source": []
  },
  {
   "cell_type": "code",
   "execution_count": null,
   "id": "4f00269d",
   "metadata": {},
   "outputs": [],
   "source": [
    "'''Define evaluation function for Convienience'''\n",
    "def evaluation_model(model, train_X, train_y, test_X):\n",
    "    cv = rmsle_cv(model, train_X, train_y)\n",
    "    cv_mean = np.round(cv.mean(), 5)\n",
    "    cv_std = np.round(cv.std(), 5)\n",
    "    sample_prediction = model.predict(test_X.loc[:3, :])\n",
    "    return {'cv_mean': cv_mean, 'cv_std': cv_std, 'sample_prediction': sample_prediction}"
   ]
  },
  {
   "cell_type": "code",
   "execution_count": 84,
   "id": "81bac9e6",
   "metadata": {},
   "outputs": [],
   "source": [
    "'''Define Hyperparameters Tuning Function'''\n",
    "def tune_hyperparameters(model, param_grid, train_X, train_y):\n",
    "    grid = GridSearchCV(\n",
    "        model, param_grid, \n",
    "        scoring='neg_mean_squared_log_error',\n",
    "        cv=3, n_jobs=-1,\n",
    "    )\n",
    "    grid.fit(train_X, train_y)\n",
    "    best_params = grid.best_params_ \n",
    "    best_score = np.round(np.sqrt(-1 * grid.best_score_), 5)\n",
    "    return best_params, best_score"
   ]
  },
  {
   "cell_type": "code",
   "execution_count": 92,
   "id": "4edb5302",
   "metadata": {},
   "outputs": [],
   "source": [
    "X_train = sample_train_X"
   ]
  },
  {
   "cell_type": "code",
   "execution_count": 93,
   "id": "28a5d189",
   "metadata": {},
   "outputs": [],
   "source": [
    "y_train = sample_train_y"
   ]
  },
  {
   "cell_type": "code",
   "execution_count": 98,
   "id": "ffa462a4",
   "metadata": {},
   "outputs": [
    {
     "ename": "NameError",
     "evalue": "name 'test_X' is not defined",
     "output_type": "error",
     "traceback": [
      "\u001b[1;31m---------------------------------------------------------------------------\u001b[0m",
      "\u001b[1;31mNameError\u001b[0m                                 Traceback (most recent call last)",
      "\u001b[1;32mC:\\Temp/ipykernel_11516/3877327271.py\u001b[0m in \u001b[0;36m<module>\u001b[1;34m\u001b[0m\n\u001b[1;32m----> 1\u001b[1;33m \u001b[0mX_test\u001b[0m \u001b[1;33m=\u001b[0m \u001b[0mtest_X\u001b[0m\u001b[1;33m\u001b[0m\u001b[1;33m\u001b[0m\u001b[0m\n\u001b[0m\u001b[0;32m      2\u001b[0m \u001b[0my_test\u001b[0m \u001b[1;33m=\u001b[0m \u001b[0mtest_y\u001b[0m\u001b[1;33m\u001b[0m\u001b[1;33m\u001b[0m\u001b[0m\n",
      "\u001b[1;31mNameError\u001b[0m: name 'test_X' is not defined"
     ]
    }
   ],
   "source": [
    "X_test = test_X\n",
    "y_test = test_y"
   ]
  },
  {
   "cell_type": "code",
   "execution_count": null,
   "id": "4ed419e2",
   "metadata": {},
   "outputs": [],
   "source": []
  },
  {
   "cell_type": "code",
   "execution_count": null,
   "id": "9cf9287e",
   "metadata": {},
   "outputs": [],
   "source": []
  },
  {
   "cell_type": "code",
   "execution_count": null,
   "id": "c83900b3",
   "metadata": {},
   "outputs": [],
   "source": []
  },
  {
   "cell_type": "code",
   "execution_count": 94,
   "id": "6e115b3c",
   "metadata": {},
   "outputs": [],
   "source": [
    "def get_best_params_for_model(model, space_params, evals=333):\n",
    "    def get_model_score(params):\n",
    "        clf = model(**params)\n",
    "        clf.fit(X_train, y_train)\n",
    "        y_pred = np.abs(clf.predict(X_test))\n",
    "        return mean_squared_log_error(y_test, y_pred, squared=False)\n",
    "    \n",
    "    best = fmin(fn=get_model_score, space=space_params, algo=tpe.suggest, max_evals=evals)\n",
    "    return space_eval(space_params, best)"
   ]
  },
  {
   "cell_type": "code",
   "execution_count": 95,
   "id": "e52142fe",
   "metadata": {},
   "outputs": [],
   "source": [
    "def compare_params_for_model(model, best_params):\n",
    "    def get_model_score(params=None):\n",
    "        if params is None:\n",
    "            clf = model()\n",
    "        else:\n",
    "            clf = model(**params)\n",
    "            clf.fit(X_train, y_train)\n",
    "            y_pred = np.abs(clf.predict(X_test))\n",
    "            return mean_squared_log_error(y_test, y_pred, squared=False)\n",
    "        def_score = get_model_score()\n",
    "        best_score = get_model_score(best_params)\n",
    "        print(f'Default: {def_score}, Best: {best_score}')\n",
    "        print(f'Difference: {def_score-best_score}')"
   ]
  },
  {
   "cell_type": "code",
   "execution_count": 96,
   "id": "b774e64e",
   "metadata": {},
   "outputs": [],
   "source": [
    "xgboost_params = {\n",
    "    'max_depth': hp.choice('map_depth', np.arange(1, 21, 1)),\n",
    "    'min_child_weight': hp.choice('min_child_weight', np.arange(1, 21, 1)),\n",
    "    'gamma': hp.choice('gamma', np.arange(0, 1, 0.001)),\n",
    "    'reg_alpha': hp.choice('reg_alpha', [1e-5, 1e-2, 0.01, 1, 100]),\n",
    "    'leatning_rate': hp.choice('leatning_rate', np.round(np.arange(0.005, 0.3, 0.01), 5)),\n",
    "    'n_estimators': hp.choice('n_estimators', np.arange(50, 2000, 50)),\n",
    "    'booster': 'gbtree'\n",
    "}"
   ]
  },
  {
   "cell_type": "code",
   "execution_count": 97,
   "id": "d81e27f5",
   "metadata": {},
   "outputs": [
    {
     "name": "stdout",
     "output_type": "stream",
     "text": [
      "[18:20:03] WARNING: C:/buildkite-agent/builds/buildkite-windows-cpu-autoscaling-group-i-030221e36e1a46bfb-1/xgboost/xgboost-ci-windows/src/learner.cc:767: \n",
      "Parameters: { \"leatning_rate\" } are not used.\n",
      "\n",
      "  0%|                                                                          | 0/150 [00:00<?, ?trial/s, best loss=?]"
     ]
    },
    {
     "name": "stderr",
     "output_type": "stream",
     "text": [
      "job exception: name 'X_test' is not defined\n",
      "\n"
     ]
    },
    {
     "name": "stdout",
     "output_type": "stream",
     "text": [
      "  0%|                                                                          | 0/150 [00:03<?, ?trial/s, best loss=?]\n"
     ]
    },
    {
     "ename": "NameError",
     "evalue": "name 'X_test' is not defined",
     "output_type": "error",
     "traceback": [
      "\u001b[1;31m---------------------------------------------------------------------------\u001b[0m",
      "\u001b[1;31mNameError\u001b[0m                                 Traceback (most recent call last)",
      "\u001b[1;32mC:\\Temp/ipykernel_11516/2490631043.py\u001b[0m in \u001b[0;36m<module>\u001b[1;34m\u001b[0m\n\u001b[1;32m----> 1\u001b[1;33m \u001b[0mbest_xgboost_params\u001b[0m \u001b[1;33m=\u001b[0m \u001b[0mget_best_params_for_model\u001b[0m\u001b[1;33m(\u001b[0m\u001b[0mXGBRegressor\u001b[0m\u001b[1;33m,\u001b[0m \u001b[0mxgboost_params\u001b[0m\u001b[1;33m,\u001b[0m \u001b[1;36m150\u001b[0m\u001b[1;33m)\u001b[0m\u001b[1;33m\u001b[0m\u001b[1;33m\u001b[0m\u001b[0m\n\u001b[0m\u001b[0;32m      2\u001b[0m \u001b[0mbest_xgboost_params\u001b[0m\u001b[1;33m\u001b[0m\u001b[1;33m\u001b[0m\u001b[0m\n",
      "\u001b[1;32mC:\\Temp/ipykernel_11516/2785407705.py\u001b[0m in \u001b[0;36mget_best_params_for_model\u001b[1;34m(model, space_params, evals)\u001b[0m\n\u001b[0;32m      6\u001b[0m         \u001b[1;32mreturn\u001b[0m \u001b[0mmean_squared_log_error\u001b[0m\u001b[1;33m(\u001b[0m\u001b[0my_test\u001b[0m\u001b[1;33m,\u001b[0m \u001b[0my_pred\u001b[0m\u001b[1;33m,\u001b[0m \u001b[0msquared\u001b[0m\u001b[1;33m=\u001b[0m\u001b[1;32mFalse\u001b[0m\u001b[1;33m)\u001b[0m\u001b[1;33m\u001b[0m\u001b[1;33m\u001b[0m\u001b[0m\n\u001b[0;32m      7\u001b[0m \u001b[1;33m\u001b[0m\u001b[0m\n\u001b[1;32m----> 8\u001b[1;33m     \u001b[0mbest\u001b[0m \u001b[1;33m=\u001b[0m \u001b[0mfmin\u001b[0m\u001b[1;33m(\u001b[0m\u001b[0mfn\u001b[0m\u001b[1;33m=\u001b[0m\u001b[0mget_model_score\u001b[0m\u001b[1;33m,\u001b[0m \u001b[0mspace\u001b[0m\u001b[1;33m=\u001b[0m\u001b[0mspace_params\u001b[0m\u001b[1;33m,\u001b[0m \u001b[0malgo\u001b[0m\u001b[1;33m=\u001b[0m\u001b[0mtpe\u001b[0m\u001b[1;33m.\u001b[0m\u001b[0msuggest\u001b[0m\u001b[1;33m,\u001b[0m \u001b[0mmax_evals\u001b[0m\u001b[1;33m=\u001b[0m\u001b[0mevals\u001b[0m\u001b[1;33m)\u001b[0m\u001b[1;33m\u001b[0m\u001b[1;33m\u001b[0m\u001b[0m\n\u001b[0m\u001b[0;32m      9\u001b[0m     \u001b[1;32mreturn\u001b[0m \u001b[0mspace_eval\u001b[0m\u001b[1;33m(\u001b[0m\u001b[0mspace_params\u001b[0m\u001b[1;33m,\u001b[0m \u001b[0mbest\u001b[0m\u001b[1;33m)\u001b[0m\u001b[1;33m\u001b[0m\u001b[1;33m\u001b[0m\u001b[0m\n",
      "\u001b[1;32m~\\anaconda3\\lib\\site-packages\\hyperopt\\fmin.py\u001b[0m in \u001b[0;36mfmin\u001b[1;34m(fn, space, algo, max_evals, timeout, loss_threshold, trials, rstate, allow_trials_fmin, pass_expr_memo_ctrl, catch_eval_exceptions, verbose, return_argmin, points_to_evaluate, max_queue_len, show_progressbar, early_stop_fn, trials_save_file)\u001b[0m\n\u001b[0;32m    584\u001b[0m \u001b[1;33m\u001b[0m\u001b[0m\n\u001b[0;32m    585\u001b[0m     \u001b[1;31m# next line is where the fmin is actually executed\u001b[0m\u001b[1;33m\u001b[0m\u001b[1;33m\u001b[0m\u001b[0m\n\u001b[1;32m--> 586\u001b[1;33m     \u001b[0mrval\u001b[0m\u001b[1;33m.\u001b[0m\u001b[0mexhaust\u001b[0m\u001b[1;33m(\u001b[0m\u001b[1;33m)\u001b[0m\u001b[1;33m\u001b[0m\u001b[1;33m\u001b[0m\u001b[0m\n\u001b[0m\u001b[0;32m    587\u001b[0m \u001b[1;33m\u001b[0m\u001b[0m\n\u001b[0;32m    588\u001b[0m     \u001b[1;32mif\u001b[0m \u001b[0mreturn_argmin\u001b[0m\u001b[1;33m:\u001b[0m\u001b[1;33m\u001b[0m\u001b[1;33m\u001b[0m\u001b[0m\n",
      "\u001b[1;32m~\\anaconda3\\lib\\site-packages\\hyperopt\\fmin.py\u001b[0m in \u001b[0;36mexhaust\u001b[1;34m(self)\u001b[0m\n\u001b[0;32m    362\u001b[0m     \u001b[1;32mdef\u001b[0m \u001b[0mexhaust\u001b[0m\u001b[1;33m(\u001b[0m\u001b[0mself\u001b[0m\u001b[1;33m)\u001b[0m\u001b[1;33m:\u001b[0m\u001b[1;33m\u001b[0m\u001b[1;33m\u001b[0m\u001b[0m\n\u001b[0;32m    363\u001b[0m         \u001b[0mn_done\u001b[0m \u001b[1;33m=\u001b[0m \u001b[0mlen\u001b[0m\u001b[1;33m(\u001b[0m\u001b[0mself\u001b[0m\u001b[1;33m.\u001b[0m\u001b[0mtrials\u001b[0m\u001b[1;33m)\u001b[0m\u001b[1;33m\u001b[0m\u001b[1;33m\u001b[0m\u001b[0m\n\u001b[1;32m--> 364\u001b[1;33m         \u001b[0mself\u001b[0m\u001b[1;33m.\u001b[0m\u001b[0mrun\u001b[0m\u001b[1;33m(\u001b[0m\u001b[0mself\u001b[0m\u001b[1;33m.\u001b[0m\u001b[0mmax_evals\u001b[0m \u001b[1;33m-\u001b[0m \u001b[0mn_done\u001b[0m\u001b[1;33m,\u001b[0m \u001b[0mblock_until_done\u001b[0m\u001b[1;33m=\u001b[0m\u001b[0mself\u001b[0m\u001b[1;33m.\u001b[0m\u001b[0masynchronous\u001b[0m\u001b[1;33m)\u001b[0m\u001b[1;33m\u001b[0m\u001b[1;33m\u001b[0m\u001b[0m\n\u001b[0m\u001b[0;32m    365\u001b[0m         \u001b[0mself\u001b[0m\u001b[1;33m.\u001b[0m\u001b[0mtrials\u001b[0m\u001b[1;33m.\u001b[0m\u001b[0mrefresh\u001b[0m\u001b[1;33m(\u001b[0m\u001b[1;33m)\u001b[0m\u001b[1;33m\u001b[0m\u001b[1;33m\u001b[0m\u001b[0m\n\u001b[0;32m    366\u001b[0m         \u001b[1;32mreturn\u001b[0m \u001b[0mself\u001b[0m\u001b[1;33m\u001b[0m\u001b[1;33m\u001b[0m\u001b[0m\n",
      "\u001b[1;32m~\\anaconda3\\lib\\site-packages\\hyperopt\\fmin.py\u001b[0m in \u001b[0;36mrun\u001b[1;34m(self, N, block_until_done)\u001b[0m\n\u001b[0;32m    298\u001b[0m                 \u001b[1;32melse\u001b[0m\u001b[1;33m:\u001b[0m\u001b[1;33m\u001b[0m\u001b[1;33m\u001b[0m\u001b[0m\n\u001b[0;32m    299\u001b[0m                     \u001b[1;31m# -- loop over trials and do the jobs directly\u001b[0m\u001b[1;33m\u001b[0m\u001b[1;33m\u001b[0m\u001b[0m\n\u001b[1;32m--> 300\u001b[1;33m                     \u001b[0mself\u001b[0m\u001b[1;33m.\u001b[0m\u001b[0mserial_evaluate\u001b[0m\u001b[1;33m(\u001b[0m\u001b[1;33m)\u001b[0m\u001b[1;33m\u001b[0m\u001b[1;33m\u001b[0m\u001b[0m\n\u001b[0m\u001b[0;32m    301\u001b[0m \u001b[1;33m\u001b[0m\u001b[0m\n\u001b[0;32m    302\u001b[0m                 \u001b[0mself\u001b[0m\u001b[1;33m.\u001b[0m\u001b[0mtrials\u001b[0m\u001b[1;33m.\u001b[0m\u001b[0mrefresh\u001b[0m\u001b[1;33m(\u001b[0m\u001b[1;33m)\u001b[0m\u001b[1;33m\u001b[0m\u001b[1;33m\u001b[0m\u001b[0m\n",
      "\u001b[1;32m~\\anaconda3\\lib\\site-packages\\hyperopt\\fmin.py\u001b[0m in \u001b[0;36mserial_evaluate\u001b[1;34m(self, N)\u001b[0m\n\u001b[0;32m    176\u001b[0m                 \u001b[0mctrl\u001b[0m \u001b[1;33m=\u001b[0m \u001b[0mbase\u001b[0m\u001b[1;33m.\u001b[0m\u001b[0mCtrl\u001b[0m\u001b[1;33m(\u001b[0m\u001b[0mself\u001b[0m\u001b[1;33m.\u001b[0m\u001b[0mtrials\u001b[0m\u001b[1;33m,\u001b[0m \u001b[0mcurrent_trial\u001b[0m\u001b[1;33m=\u001b[0m\u001b[0mtrial\u001b[0m\u001b[1;33m)\u001b[0m\u001b[1;33m\u001b[0m\u001b[1;33m\u001b[0m\u001b[0m\n\u001b[0;32m    177\u001b[0m                 \u001b[1;32mtry\u001b[0m\u001b[1;33m:\u001b[0m\u001b[1;33m\u001b[0m\u001b[1;33m\u001b[0m\u001b[0m\n\u001b[1;32m--> 178\u001b[1;33m                     \u001b[0mresult\u001b[0m \u001b[1;33m=\u001b[0m \u001b[0mself\u001b[0m\u001b[1;33m.\u001b[0m\u001b[0mdomain\u001b[0m\u001b[1;33m.\u001b[0m\u001b[0mevaluate\u001b[0m\u001b[1;33m(\u001b[0m\u001b[0mspec\u001b[0m\u001b[1;33m,\u001b[0m \u001b[0mctrl\u001b[0m\u001b[1;33m)\u001b[0m\u001b[1;33m\u001b[0m\u001b[1;33m\u001b[0m\u001b[0m\n\u001b[0m\u001b[0;32m    179\u001b[0m                 \u001b[1;32mexcept\u001b[0m \u001b[0mException\u001b[0m \u001b[1;32mas\u001b[0m \u001b[0me\u001b[0m\u001b[1;33m:\u001b[0m\u001b[1;33m\u001b[0m\u001b[1;33m\u001b[0m\u001b[0m\n\u001b[0;32m    180\u001b[0m                     \u001b[0mlogger\u001b[0m\u001b[1;33m.\u001b[0m\u001b[0merror\u001b[0m\u001b[1;33m(\u001b[0m\u001b[1;34m\"job exception: %s\"\u001b[0m \u001b[1;33m%\u001b[0m \u001b[0mstr\u001b[0m\u001b[1;33m(\u001b[0m\u001b[0me\u001b[0m\u001b[1;33m)\u001b[0m\u001b[1;33m)\u001b[0m\u001b[1;33m\u001b[0m\u001b[1;33m\u001b[0m\u001b[0m\n",
      "\u001b[1;32m~\\anaconda3\\lib\\site-packages\\hyperopt\\base.py\u001b[0m in \u001b[0;36mevaluate\u001b[1;34m(self, config, ctrl, attach_attachments)\u001b[0m\n\u001b[0;32m    890\u001b[0m                 \u001b[0mprint_node_on_error\u001b[0m\u001b[1;33m=\u001b[0m\u001b[0mself\u001b[0m\u001b[1;33m.\u001b[0m\u001b[0mrec_eval_print_node_on_error\u001b[0m\u001b[1;33m,\u001b[0m\u001b[1;33m\u001b[0m\u001b[1;33m\u001b[0m\u001b[0m\n\u001b[0;32m    891\u001b[0m             )\n\u001b[1;32m--> 892\u001b[1;33m             \u001b[0mrval\u001b[0m \u001b[1;33m=\u001b[0m \u001b[0mself\u001b[0m\u001b[1;33m.\u001b[0m\u001b[0mfn\u001b[0m\u001b[1;33m(\u001b[0m\u001b[0mpyll_rval\u001b[0m\u001b[1;33m)\u001b[0m\u001b[1;33m\u001b[0m\u001b[1;33m\u001b[0m\u001b[0m\n\u001b[0m\u001b[0;32m    893\u001b[0m \u001b[1;33m\u001b[0m\u001b[0m\n\u001b[0;32m    894\u001b[0m         \u001b[1;32mif\u001b[0m \u001b[0misinstance\u001b[0m\u001b[1;33m(\u001b[0m\u001b[0mrval\u001b[0m\u001b[1;33m,\u001b[0m \u001b[1;33m(\u001b[0m\u001b[0mfloat\u001b[0m\u001b[1;33m,\u001b[0m \u001b[0mint\u001b[0m\u001b[1;33m,\u001b[0m \u001b[0mnp\u001b[0m\u001b[1;33m.\u001b[0m\u001b[0mnumber\u001b[0m\u001b[1;33m)\u001b[0m\u001b[1;33m)\u001b[0m\u001b[1;33m:\u001b[0m\u001b[1;33m\u001b[0m\u001b[1;33m\u001b[0m\u001b[0m\n",
      "\u001b[1;32mC:\\Temp/ipykernel_11516/2785407705.py\u001b[0m in \u001b[0;36mget_model_score\u001b[1;34m(params)\u001b[0m\n\u001b[0;32m      3\u001b[0m         \u001b[0mclf\u001b[0m \u001b[1;33m=\u001b[0m \u001b[0mmodel\u001b[0m\u001b[1;33m(\u001b[0m\u001b[1;33m**\u001b[0m\u001b[0mparams\u001b[0m\u001b[1;33m)\u001b[0m\u001b[1;33m\u001b[0m\u001b[1;33m\u001b[0m\u001b[0m\n\u001b[0;32m      4\u001b[0m         \u001b[0mclf\u001b[0m\u001b[1;33m.\u001b[0m\u001b[0mfit\u001b[0m\u001b[1;33m(\u001b[0m\u001b[0mX_train\u001b[0m\u001b[1;33m,\u001b[0m \u001b[0my_train\u001b[0m\u001b[1;33m)\u001b[0m\u001b[1;33m\u001b[0m\u001b[1;33m\u001b[0m\u001b[0m\n\u001b[1;32m----> 5\u001b[1;33m         \u001b[0my_pred\u001b[0m \u001b[1;33m=\u001b[0m \u001b[0mnp\u001b[0m\u001b[1;33m.\u001b[0m\u001b[0mabs\u001b[0m\u001b[1;33m(\u001b[0m\u001b[0mclf\u001b[0m\u001b[1;33m.\u001b[0m\u001b[0mpredict\u001b[0m\u001b[1;33m(\u001b[0m\u001b[0mX_test\u001b[0m\u001b[1;33m)\u001b[0m\u001b[1;33m)\u001b[0m\u001b[1;33m\u001b[0m\u001b[1;33m\u001b[0m\u001b[0m\n\u001b[0m\u001b[0;32m      6\u001b[0m         \u001b[1;32mreturn\u001b[0m \u001b[0mmean_squared_log_error\u001b[0m\u001b[1;33m(\u001b[0m\u001b[0my_test\u001b[0m\u001b[1;33m,\u001b[0m \u001b[0my_pred\u001b[0m\u001b[1;33m,\u001b[0m \u001b[0msquared\u001b[0m\u001b[1;33m=\u001b[0m\u001b[1;32mFalse\u001b[0m\u001b[1;33m)\u001b[0m\u001b[1;33m\u001b[0m\u001b[1;33m\u001b[0m\u001b[0m\n\u001b[0;32m      7\u001b[0m \u001b[1;33m\u001b[0m\u001b[0m\n",
      "\u001b[1;31mNameError\u001b[0m: name 'X_test' is not defined"
     ]
    }
   ],
   "source": [
    "best_xgboost_params = get_best_params_for_model(XGBRegressor, xgboost_params, 150)\n",
    "best_xgboost_params"
   ]
  },
  {
   "cell_type": "code",
   "execution_count": null,
   "id": "7f70c46f",
   "metadata": {},
   "outputs": [],
   "source": [
    "compare_params_for_model(XGBRegressor, best_xgboost_params)"
   ]
  },
  {
   "cell_type": "code",
   "execution_count": null,
   "id": "6e45f7cb",
   "metadata": {},
   "outputs": [],
   "source": [
    "rand_forest_params = {\n",
    "    'max_depth': hp.choice('map_depth', [None] + list(range(10, 110, 10))),\n",
    "    'min_samples_split': hp.choice('min_samples_split', np.arange(2, 11, 1)),\n",
    "    'max_features': hp.choice('max_features', ['auto', 'sqrt', 'log2']),\n",
    "    'n_estimators': hp.choice('n_estimators', np.arange(50, 2000, 50))\n",
    "}"
   ]
  },
  {
   "cell_type": "code",
   "execution_count": null,
   "id": "7a21c70f",
   "metadata": {},
   "outputs": [],
   "source": [
    "best_rand_forest_params = get_best_params_for_model(RandomForestRegressor, rand_forest_params, 50)\n",
    "best_rand_forest_params"
   ]
  },
  {
   "cell_type": "code",
   "execution_count": null,
   "id": "2e3efbaa",
   "metadata": {},
   "outputs": [],
   "source": [
    "compare_params_for_model(RandomForestRegressor, best_rand_forest_params)"
   ]
  },
  {
   "cell_type": "code",
   "execution_count": null,
   "id": "0df755f3",
   "metadata": {},
   "outputs": [],
   "source": []
  },
  {
   "cell_type": "code",
   "execution_count": null,
   "id": "922a87c8",
   "metadata": {},
   "outputs": [],
   "source": []
  },
  {
   "cell_type": "code",
   "execution_count": null,
   "id": "b48803dc",
   "metadata": {},
   "outputs": [],
   "source": []
  },
  {
   "cell_type": "code",
   "execution_count": null,
   "id": "db1029bb",
   "metadata": {},
   "outputs": [],
   "source": []
  },
  {
   "cell_type": "code",
   "execution_count": null,
   "id": "0f33dfd1",
   "metadata": {},
   "outputs": [],
   "source": []
  },
  {
   "cell_type": "code",
   "execution_count": null,
   "id": "6cab4d2a",
   "metadata": {},
   "outputs": [],
   "source": []
  },
  {
   "cell_type": "code",
   "execution_count": null,
   "id": "4fca798f",
   "metadata": {},
   "outputs": [],
   "source": []
  },
  {
   "cell_type": "code",
   "execution_count": null,
   "id": "52e5fa6a",
   "metadata": {},
   "outputs": [],
   "source": []
  },
  {
   "cell_type": "code",
   "execution_count": null,
   "id": "88b4eff9",
   "metadata": {},
   "outputs": [],
   "source": []
  },
  {
   "cell_type": "code",
   "execution_count": null,
   "id": "5f585035",
   "metadata": {},
   "outputs": [],
   "source": []
  }
 ],
 "metadata": {
  "kernelspec": {
   "display_name": "Python 3 (ipykernel)",
   "language": "python",
   "name": "python3"
  },
  "language_info": {
   "codemirror_mode": {
    "name": "ipython",
    "version": 3
   },
   "file_extension": ".py",
   "mimetype": "text/x-python",
   "name": "python",
   "nbconvert_exporter": "python",
   "pygments_lexer": "ipython3",
   "version": "3.9.7"
  }
 },
 "nbformat": 4,
 "nbformat_minor": 5
}
